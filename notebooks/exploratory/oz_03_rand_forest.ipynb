{
 "cells": [
  {
   "cell_type": "code",
   "execution_count": 1,
   "metadata": {},
   "outputs": [],
   "source": [
    "# PUT CUSTOM FUNCTIONS AT TOP SO WE CAN TRANSFER TO A SEPARATE PYTHON FILE\n",
    "\n",
    "def get_metrics_smoted(model):\n",
    "    '''\n",
    "    model = instantiated instace of classifier\n",
    "    '''\n",
    "\n",
    "    model.fit(X_tr_sm, y_tr_sm)\n",
    "    y_pred = model.predict(X_te_final_sc)\n",
    "    \n",
    "    return print(confusion_matrix(y_test, y_pred), '\\n', \n",
    "                 classification_report(y_test, y_pred))"
   ]
  },
  {
   "cell_type": "code",
   "execution_count": 2,
   "metadata": {},
   "outputs": [],
   "source": [
    "# copy & paste this cell in new notebook \n",
    "# to have all the libraries we're working with\n",
    "# and the og data, modified df, X (feature vars) and y (target var)\n",
    "\n",
    "# Libraries\n",
    "import pandas as pd\n",
    "import numpy as np\n",
    "import seaborn as sns\n",
    "import matplotlib.pyplot as plt\n",
    "from operator import itemgetter # for sorting a list of tuples based on the second element of ea tuple.\n",
    "from sklearn.model_selection import train_test_split, cross_val_score, GridSearchCV\n",
    "from sklearn.linear_model import LogisticRegression\n",
    "from sklearn.preprocessing import OneHotEncoder, StandardScaler\n",
    "from sklearn.metrics import confusion_matrix, f1_score, classification_report\n",
    "from sklearn.pipeline import make_pipeline\n",
    "from sklearn.compose import make_column_selector as selector\n",
    "from sklearn.compose import ColumnTransformer\n",
    "from sklearn.ensemble import RandomForestClassifier, AdaBoostClassifier\n",
    "from imblearn.over_sampling import SMOTE"
   ]
  },
  {
   "cell_type": "code",
   "execution_count": 3,
   "metadata": {},
   "outputs": [],
   "source": [
    "# importing ohe'd & scaled X_train/X_test as dataframes\n",
    "# importing y_train and test as series\n",
    "\n",
    "X_tr_final_sc = pd.read_csv('../../src/data/X_tr_final_sc_seeded_42.csv', index_col=0)\n",
    "X_te_final_sc = pd.read_csv('../../src/data/X_te_final_sc_seeded_42.csv', index_col=0)\n",
    "\n",
    "y_train = pd.read_csv('../../src/data/y_train_seeded_42.csv', index_col=0, squeeze=True)\n",
    "y_test = pd.read_csv('../../src/data/y_test_seeded_42.csv', index_col=0, squeeze=True)\n",
    "\n",
    "# print('train datasets: ', X_tr_final_sc.shape, y_train.shape)\n",
    "# print('test datasets: ', X_te_final_sc.shape, y_test.shape)\n",
    "\n",
    "\n",
    "# SMOTE\n",
    "\n",
    "sm1 = SMOTE(random_state=42)\n",
    "X_tr_sm, y_tr_sm = sm1.fit_resample(X_tr_final_sc, y_train)\n",
    "\n",
    "# print(\"SMOTE'd train datasets: \", X_tr_final_smoted.shape, y_tr_smoted.shape)\n",
    "# print(y_tr_smoted.value_counts())"
   ]
  },
  {
   "cell_type": "code",
   "execution_count": 4,
   "metadata": {},
   "outputs": [],
   "source": [
    "# removing following columns:\n",
    "# 'number vmail messages'\n",
    "# 'total day minutes'\n",
    "# 'total eve minutes'\n",
    "# 'total night minutes'\n",
    "\n",
    "dropped1 = 'number vmail messages'\n",
    "dropped4 = ['total day minutes', 'total eve minutes', 'total night minutes', 'total intl minutes']\n",
    "# dropped5 = ['total day minutes', 'total eve minutes', \n",
    "#             'total night minutes', 'total intl minutes'], & all states\n",
    "# dropped 5 is for the final forest model were max f1, precision, recall.\n",
    "\n",
    "X_tr_dropped1 = X_tr_final_sc.drop(dropped1, axis=1)\n",
    "X_te_dropped1 = X_te_final_sc.drop(dropped1, axis=1)\n",
    "\n",
    "X_tr_dropped4 = X_tr_final_sc.drop(dropped4, axis=1)\n",
    "X_te_dropped4 = X_te_final_sc.drop(dropped4, axis=1)\n",
    "\n",
    "sm2 = SMOTE(random_state=42)\n",
    "X_tr_dropped1_sm, y_tr_dropped1_sm = sm2.fit_resample(X_tr_dropped1, y_train)\n",
    "\n",
    "sm3 = SMOTE(random_state=42)\n",
    "X_tr_dropped4_sm, y_tr_dropped4_sm = sm3.fit_resample(X_tr_dropped4, y_train)"
   ]
  },
  {
   "cell_type": "markdown",
   "metadata": {},
   "source": [
    "---\n",
    "\n",
    "# Random Forest"
   ]
  },
  {
   "cell_type": "markdown",
   "metadata": {},
   "source": [
    "#### ---\n",
    "\n",
    "## forest1\n",
    "- fsm w/ SMOTE'd data"
   ]
  },
  {
   "cell_type": "code",
   "execution_count": 5,
   "metadata": {},
   "outputs": [
    {
     "ename": "NameError",
     "evalue": "name 'get_metrics_smoted' is not defined",
     "output_type": "error",
     "traceback": [
      "\u001b[0;31m---------------------------------------------------------------------------\u001b[0m",
      "\u001b[0;31mNameError\u001b[0m                                 Traceback (most recent call last)",
      "\u001b[0;32m<ipython-input-5-1097fc01806e>\u001b[0m in \u001b[0;36m<module>\u001b[0;34m\u001b[0m\n\u001b[1;32m      1\u001b[0m \u001b[0mforest1\u001b[0m \u001b[0;34m=\u001b[0m \u001b[0mRandomForestClassifier\u001b[0m\u001b[0;34m(\u001b[0m\u001b[0mrandom_state\u001b[0m\u001b[0;34m=\u001b[0m\u001b[0;36m42\u001b[0m\u001b[0;34m)\u001b[0m\u001b[0;34m\u001b[0m\u001b[0;34m\u001b[0m\u001b[0m\n\u001b[1;32m      2\u001b[0m \u001b[0;34m\u001b[0m\u001b[0m\n\u001b[0;32m----> 3\u001b[0;31m \u001b[0mget_metrics_smoted\u001b[0m\u001b[0;34m(\u001b[0m\u001b[0mforest1\u001b[0m\u001b[0;34m)\u001b[0m\u001b[0;34m\u001b[0m\u001b[0;34m\u001b[0m\u001b[0m\n\u001b[0m",
      "\u001b[0;31mNameError\u001b[0m: name 'get_metrics_smoted' is not defined"
     ]
    }
   ],
   "source": [
    "forest1 = RandomForestClassifier(random_state=42)\n",
    "\n",
    "get_metrics_smoted(forest1)"
   ]
  },
  {
   "cell_type": "markdown",
   "metadata": {},
   "source": [
    "#### ---\n",
    "\n",
    "## forest2\n",
    "- gridsearch"
   ]
  },
  {
   "cell_type": "code",
   "execution_count": null,
   "metadata": {},
   "outputs": [],
   "source": [
    "forest2 = RandomForestClassifier(random_state=42)"
   ]
  },
  {
   "cell_type": "code",
   "execution_count": null,
   "metadata": {},
   "outputs": [],
   "source": [
    "grid_forest2 = {\n",
    "    'criterion': ['gini', 'entropy'],\n",
    "    'max_depth': [3, 5, 10, 20],\n",
    "    'min_samples_split': [20, 15, 10, 7, 5],\n",
    "    'max_features': ['sqrt', 'log2', 0.5],\n",
    "    'n_estimators': [50, 100, 200]\n",
    "}\n",
    "\n",
    "forest2_gridsearch = GridSearchCV(forest2, grid_forest2, cv=3)\n",
    "\n",
    "forest2_gridsearch.fit(X_tr_sm, y_tr_sm)\n",
    "\n",
    "print(forest2_gridsearch.best_params_, '\\n', forest2_gridsearch.best_score_)"
   ]
  },
  {
   "cell_type": "code",
   "execution_count": null,
   "metadata": {},
   "outputs": [],
   "source": [
    "# params from my grid search\n",
    "\n",
    "forest2_grd = RandomForestClassifier(criterion= 'gini', \n",
    "                                     max_depth= 20, \n",
    "                                     max_features= 0.5, \n",
    "                                     min_samples_split= 5, \n",
    "                                     n_estimators= 100, \n",
    "                                     random_state=42)\n",
    "\n",
    "get_metrics_smoted(forest2_grd)"
   ]
  },
  {
   "cell_type": "code",
   "execution_count": null,
   "metadata": {},
   "outputs": [],
   "source": [
    "# hunters params from his grid search\n",
    "\n",
    "forest2_hunter1 = RandomForestClassifier(criterion= 'gini', max_features= 0.5, \n",
    "                                             n_estimators= 200, random_state= 42)\n",
    "\n",
    "get_metrics_smoted(forest2_hunter1)"
   ]
  },
  {
   "cell_type": "code",
   "execution_count": null,
   "metadata": {},
   "outputs": [],
   "source": [
    "# final params hunter settled on\n",
    "\n",
    "forest2_hunter2 = RandomForestClassifier(max_features=0.5, random_state=42)\n",
    "get_metrics_smoted(forest2_hunter2)"
   ]
  },
  {
   "cell_type": "code",
   "execution_count": null,
   "metadata": {},
   "outputs": [],
   "source": [
    "forest2_hunter2_summary = list(zip(X_tr_sm.columns, forest2_hunter2.feature_importances_))\n",
    "forest2_hunter2_summary = sorted(forest2_hunter2_summary,key=itemgetter(1), reverse=True)\n",
    "\n",
    "forest2_hunter2_ylabel = [i[0] for i in forest2_hunter2_summary][:5]\n",
    "forest2_hunter2_xlabel = [i[1] for i in forest2_hunter2_summary][:5]\n",
    "\n",
    "fig, ax = plt.subplots()\n",
    "ax.barh(forest2_hunter2_ylabel, forest2_hunter2_xlabel)\n",
    "ax.invert_yaxis()"
   ]
  },
  {
   "cell_type": "markdown",
   "metadata": {},
   "source": [
    "#### ---\n",
    "\n",
    "## forest3\n",
    "- dropped1_sm"
   ]
  },
  {
   "cell_type": "code",
   "execution_count": null,
   "metadata": {},
   "outputs": [],
   "source": [
    "forest3_grd = RandomForestClassifier(criterion= 'gini', \n",
    "                                     max_depth= 20, \n",
    "                                     max_features= 0.5, \n",
    "                                     min_samples_split= 5, \n",
    "                                     n_estimators= 100, \n",
    "                                     random_state=42)\n",
    "\n",
    "forest3_grd.fit(X_tr_dropped1_sm, y_tr_dropped1_sm)\n",
    "forest3_grd_y_pred = forest3_grd.predict(X_te_dropped1)\n",
    "\n",
    "print(confusion_matrix(y_test, forest3_grd_y_pred))\n",
    "\n",
    "print(classification_report(y_test, forest3_grd_y_pred))"
   ]
  },
  {
   "cell_type": "code",
   "execution_count": null,
   "metadata": {},
   "outputs": [],
   "source": [
    "forest3_hunter1 = RandomForestClassifier(criterion= 'gini', max_features= 0.5, \n",
    "                                             n_estimators= 200, random_state= 42)\n",
    "\n",
    "forest3_hunter1.fit(X_tr_dropped1_sm, y_tr_dropped1_sm)\n",
    "forest3_hunter1_y_pred = forest3_hunter1.predict(X_te_dropped1)\n",
    "\n",
    "print(confusion_matrix(y_test, forest3_hunter1_y_pred))\n",
    "\n",
    "print(classification_report(y_test, forest3_hunter1_y_pred))"
   ]
  },
  {
   "cell_type": "code",
   "execution_count": null,
   "metadata": {},
   "outputs": [],
   "source": [
    "forest3_hunter2 = RandomForestClassifier(max_features=0.5, random_state=42)\n",
    "\n",
    "forest3_hunter2.fit(X_tr_dropped1_sm, y_tr_dropped1_sm)\n",
    "forest3_hunter2_y_pred = forest3_hunter2.predict(X_te_dropped1)\n",
    "\n",
    "print(confusion_matrix(y_test, forest3_hunter2_y_pred))\n",
    "\n",
    "print(classification_report(y_test, forest3_hunter2_y_pred))"
   ]
  },
  {
   "cell_type": "code",
   "execution_count": null,
   "metadata": {},
   "outputs": [],
   "source": [
    "# comparing to our best model forest2_hunter2\n",
    "\n",
    "get_metrics_smoted(forest2_hunter2)"
   ]
  },
  {
   "cell_type": "markdown",
   "metadata": {},
   "source": [
    "#### ---\n",
    "\n",
    "## forest4\n",
    "- dropped4_sm"
   ]
  },
  {
   "cell_type": "code",
   "execution_count": 6,
   "metadata": {},
   "outputs": [
    {
     "name": "stdout",
     "output_type": "stream",
     "text": [
      "[[686  23]\n",
      " [ 29  96]]\n",
      "              precision    recall  f1-score   support\n",
      "\n",
      "       False       0.96      0.97      0.96       709\n",
      "        True       0.81      0.77      0.79       125\n",
      "\n",
      "    accuracy                           0.94       834\n",
      "   macro avg       0.88      0.87      0.88       834\n",
      "weighted avg       0.94      0.94      0.94       834\n",
      "\n"
     ]
    }
   ],
   "source": [
    "forest4_grd = RandomForestClassifier(criterion= 'gini', \n",
    "                                     max_depth= 20, \n",
    "                                     max_features= 0.5, \n",
    "                                     min_samples_split= 5, \n",
    "                                     n_estimators= 100, \n",
    "                                     random_state=42)\n",
    "\n",
    "forest4_grd.fit(X_tr_dropped4_sm, y_tr_dropped4_sm)\n",
    "forest4_grd_y_pred = forest4_grd.predict(X_te_dropped4)\n",
    "\n",
    "print(confusion_matrix(y_test, forest4_grd_y_pred))\n",
    "\n",
    "print(classification_report(y_test, forest4_grd_y_pred))"
   ]
  },
  {
   "cell_type": "code",
   "execution_count": 7,
   "metadata": {},
   "outputs": [
    {
     "name": "stdout",
     "output_type": "stream",
     "text": [
      "[[689  20]\n",
      " [ 27  98]]\n",
      "              precision    recall  f1-score   support\n",
      "\n",
      "       False       0.96      0.97      0.97       709\n",
      "        True       0.83      0.78      0.81       125\n",
      "\n",
      "    accuracy                           0.94       834\n",
      "   macro avg       0.90      0.88      0.89       834\n",
      "weighted avg       0.94      0.94      0.94       834\n",
      "\n"
     ]
    }
   ],
   "source": [
    "forest4_hunter1 = RandomForestClassifier(criterion= 'gini', max_features= 0.5, \n",
    "                                             n_estimators= 200, random_state= 42)\n",
    "\n",
    "forest4_hunter1.fit(X_tr_dropped4_sm, y_tr_dropped4_sm)\n",
    "forest4_hunter1_y_pred = forest4_hunter1.predict(X_te_dropped4)\n",
    "\n",
    "print(confusion_matrix(y_test, forest4_hunter1_y_pred))\n",
    "\n",
    "print(classification_report(y_test, forest4_hunter1_y_pred))"
   ]
  },
  {
   "cell_type": "code",
   "execution_count": 8,
   "metadata": {},
   "outputs": [
    {
     "name": "stdout",
     "output_type": "stream",
     "text": [
      "[[689  20]\n",
      " [ 28  97]]\n",
      "              precision    recall  f1-score   support\n",
      "\n",
      "       False       0.96      0.97      0.97       709\n",
      "        True       0.83      0.78      0.80       125\n",
      "\n",
      "    accuracy                           0.94       834\n",
      "   macro avg       0.90      0.87      0.88       834\n",
      "weighted avg       0.94      0.94      0.94       834\n",
      "\n"
     ]
    }
   ],
   "source": [
    "forest4_hunter2 = RandomForestClassifier(max_features=0.5, random_state=42)\n",
    "\n",
    "forest4_hunter2.fit(X_tr_dropped4_sm, y_tr_dropped4_sm)\n",
    "forest4_hunter2_y_pred = forest4_hunter2.predict(X_te_dropped4)\n",
    "\n",
    "print(confusion_matrix(y_test, forest4_hunter2_y_pred))\n",
    "\n",
    "print(classification_report(y_test, forest4_hunter2_y_pred))"
   ]
  },
  {
   "cell_type": "code",
   "execution_count": 21,
   "metadata": {},
   "outputs": [],
   "source": [
    "from operator import itemgetter\n",
    "\n",
    "forest4_hunter2_summary = list(zip(X_tr_dropped4_sm.columns, forest4_hunter2.feature_importances_))\n",
    "forest4_hunter2_summary = sorted(forest4_hunter2_summary,key=itemgetter(1), reverse=True)\n",
    "forest4_hunter2_summary\n",
    "\n",
    "forest4_hunter2_ylabel = [i[0] for i in forest4_hunter2_summary][:5]\n",
    "forest4_hunter2_xlabel = [i[1] for i in forest4_hunter2_summary][:5]\n",
    "\n",
    "fig, ax = plt.subplots()\n",
    "ax.barh(forest4_hunter2_ylabel, forest4_hunter2_xlabel)\n",
    "ax.invert_yaxis()"
   ]
  },
  {
   "cell_type": "code",
   "execution_count": 22,
   "metadata": {},
   "outputs": [
    {
     "data": {
      "image/png": "[encoded data removed]",
      "text/plain": [
       "<Figure size 432x288 with 1 Axes>"
      ]
     },
     "metadata": {
      "needs_background": "light"
     },
     "output_type": "display_data"
    }
   ],
   "source": [
    "# checking with our best model yet: forest2_hunter2\n",
    "\n",
    "forest2_hunter2_summary = list(zip(X_tr_sm.columns, forest2_hunter2.feature_importances_))\n",
    "forest2_hunter2_summary = sorted(forest2_hunter2_summary,key=itemgetter(1), reverse=True)\n",
    "\n",
    "forest2_hunter2_ylabel = [i[0] for i in forest2_hunter2_summary][:5]\n",
    "forest2_hunter2_xlabel = [i[1] for i in forest2_hunter2_summary][:5]\n",
    "\n",
    "fig, ax = plt.subplots()\n",
    "ax.barh(forest2_hunter2_ylabel, forest2_hunter2_xlabel)\n",
    "ax.invert_yaxis()"
   ]
  },
  {
   "cell_type": "markdown",
   "metadata": {},
   "source": [
    "#### ---\n",
    "\n",
    "## forest5\n",
    "- refitting for f1, recall, precision\n",
    "- dropping columns total day minutes, total even minutes, total night minutes, total intl minutes, state"
   ]
  },
  {
   "cell_type": "markdown",
   "metadata": {},
   "source": [
    "#### Dropping columns from smoted train"
   ]
  },
  {
   "cell_type": "code",
   "execution_count": 31,
   "metadata": {},
   "outputs": [
    {
     "data": {
      "text/html": [
       "<div>\n",
       "<style scoped>\n",
       "    .dataframe tbody tr th:only-of-type {\n",
       "        vertical-align: middle;\n",
       "    }\n",
       "\n",
       "    .dataframe tbody tr th {\n",
       "        vertical-align: top;\n",
       "    }\n",
       "\n",
       "    .dataframe thead th {\n",
       "        text-align: right;\n",
       "    }\n",
       "</style>\n",
       "<table border=\"1\" class=\"dataframe\">\n",
       "  <thead>\n",
       "    <tr style=\"text-align: right;\">\n",
       "      <th></th>\n",
       "      <th>account length</th>\n",
       "      <th>number vmail messages</th>\n",
       "      <th>total day minutes</th>\n",
       "      <th>total day calls</th>\n",
       "      <th>total day charge</th>\n",
       "      <th>total eve minutes</th>\n",
       "      <th>total eve calls</th>\n",
       "      <th>total eve charge</th>\n",
       "      <th>total night minutes</th>\n",
       "      <th>total night calls</th>\n",
       "      <th>...</th>\n",
       "      <th>state_TX</th>\n",
       "      <th>state_UT</th>\n",
       "      <th>state_VA</th>\n",
       "      <th>state_VT</th>\n",
       "      <th>state_WA</th>\n",
       "      <th>state_WI</th>\n",
       "      <th>state_WV</th>\n",
       "      <th>state_WY</th>\n",
       "      <th>international plan_yes</th>\n",
       "      <th>voice mail plan_yes</th>\n",
       "    </tr>\n",
       "  </thead>\n",
       "  <tbody>\n",
       "    <tr>\n",
       "      <th>0</th>\n",
       "      <td>-1.404508</td>\n",
       "      <td>-0.584700</td>\n",
       "      <td>-1.883677</td>\n",
       "      <td>1.330852</td>\n",
       "      <td>-1.884170</td>\n",
       "      <td>1.037727</td>\n",
       "      <td>0.401340</td>\n",
       "      <td>1.037905</td>\n",
       "      <td>1.069609</td>\n",
       "      <td>0.004940</td>\n",
       "      <td>...</td>\n",
       "      <td>-0.150014</td>\n",
       "      <td>-0.144338</td>\n",
       "      <td>-0.156845</td>\n",
       "      <td>-0.144338</td>\n",
       "      <td>-0.147201</td>\n",
       "      <td>-0.163417</td>\n",
       "      <td>-0.175899</td>\n",
       "      <td>-0.1555</td>\n",
       "      <td>-0.327448</td>\n",
       "      <td>-0.611418</td>\n",
       "    </tr>\n",
       "    <tr>\n",
       "      <th>1</th>\n",
       "      <td>0.366388</td>\n",
       "      <td>-0.584700</td>\n",
       "      <td>0.294083</td>\n",
       "      <td>0.529165</td>\n",
       "      <td>0.293703</td>\n",
       "      <td>0.516178</td>\n",
       "      <td>0.401340</td>\n",
       "      <td>0.517286</td>\n",
       "      <td>2.214376</td>\n",
       "      <td>0.670832</td>\n",
       "      <td>...</td>\n",
       "      <td>-0.150014</td>\n",
       "      <td>-0.144338</td>\n",
       "      <td>-0.156845</td>\n",
       "      <td>-0.144338</td>\n",
       "      <td>-0.147201</td>\n",
       "      <td>-0.163417</td>\n",
       "      <td>-0.175899</td>\n",
       "      <td>-0.1555</td>\n",
       "      <td>-0.327448</td>\n",
       "      <td>-0.611418</td>\n",
       "    </tr>\n",
       "    <tr>\n",
       "      <th>2</th>\n",
       "      <td>0.518179</td>\n",
       "      <td>1.685101</td>\n",
       "      <td>1.056392</td>\n",
       "      <td>-1.875896</td>\n",
       "      <td>1.056666</td>\n",
       "      <td>0.093407</td>\n",
       "      <td>0.849774</td>\n",
       "      <td>0.094283</td>\n",
       "      <td>-0.077125</td>\n",
       "      <td>-0.763398</td>\n",
       "      <td>...</td>\n",
       "      <td>-0.150014</td>\n",
       "      <td>-0.144338</td>\n",
       "      <td>-0.156845</td>\n",
       "      <td>-0.144338</td>\n",
       "      <td>-0.147201</td>\n",
       "      <td>-0.163417</td>\n",
       "      <td>-0.175899</td>\n",
       "      <td>-0.1555</td>\n",
       "      <td>-0.327448</td>\n",
       "      <td>1.635543</td>\n",
       "    </tr>\n",
       "    <tr>\n",
       "      <th>3</th>\n",
       "      <td>2.010792</td>\n",
       "      <td>-0.584700</td>\n",
       "      <td>-0.679156</td>\n",
       "      <td>1.681590</td>\n",
       "      <td>-0.679320</td>\n",
       "      <td>-0.402459</td>\n",
       "      <td>0.650470</td>\n",
       "      <td>-0.403094</td>\n",
       "      <td>-0.322994</td>\n",
       "      <td>-0.660953</td>\n",
       "      <td>...</td>\n",
       "      <td>-0.150014</td>\n",
       "      <td>-0.144338</td>\n",
       "      <td>-0.156845</td>\n",
       "      <td>-0.144338</td>\n",
       "      <td>-0.147201</td>\n",
       "      <td>-0.163417</td>\n",
       "      <td>-0.175899</td>\n",
       "      <td>-0.1555</td>\n",
       "      <td>-0.327448</td>\n",
       "      <td>-0.611418</td>\n",
       "    </tr>\n",
       "    <tr>\n",
       "      <th>4</th>\n",
       "      <td>0.290493</td>\n",
       "      <td>-0.584700</td>\n",
       "      <td>0.484660</td>\n",
       "      <td>1.080325</td>\n",
       "      <td>0.484172</td>\n",
       "      <td>-0.718549</td>\n",
       "      <td>-0.296224</td>\n",
       "      <td>-0.719184</td>\n",
       "      <td>-1.186487</td>\n",
       "      <td>0.056162</td>\n",
       "      <td>...</td>\n",
       "      <td>-0.150014</td>\n",
       "      <td>-0.144338</td>\n",
       "      <td>-0.156845</td>\n",
       "      <td>-0.144338</td>\n",
       "      <td>-0.147201</td>\n",
       "      <td>-0.163417</td>\n",
       "      <td>-0.175899</td>\n",
       "      <td>-0.1555</td>\n",
       "      <td>-0.327448</td>\n",
       "      <td>-0.611418</td>\n",
       "    </tr>\n",
       "  </tbody>\n",
       "</table>\n",
       "<p>5 rows × 67 columns</p>\n",
       "</div>"
      ],
      "text/plain": [
       "   account length  number vmail messages  total day minutes  total day calls  \\\n",
       "0       -1.404508              -0.584700          -1.883677         1.330852   \n",
       "1        0.366388              -0.584700           0.294083         0.529165   \n",
       "2        0.518179               1.685101           1.056392        -1.875896   \n",
       "3        2.010792              -0.584700          -0.679156         1.681590   \n",
       "4        0.290493              -0.584700           0.484660         1.080325   \n",
       "\n",
       "   total day charge  total eve minutes  total eve calls  total eve charge  \\\n",
       "0         -1.884170           1.037727         0.401340          1.037905   \n",
       "1          0.293703           0.516178         0.401340          0.517286   \n",
       "2          1.056666           0.093407         0.849774          0.094283   \n",
       "3         -0.679320          -0.402459         0.650470         -0.403094   \n",
       "4          0.484172          -0.718549        -0.296224         -0.719184   \n",
       "\n",
       "   total night minutes  total night calls  ...  state_TX  state_UT  state_VA  \\\n",
       "0             1.069609           0.004940  ... -0.150014 -0.144338 -0.156845   \n",
       "1             2.214376           0.670832  ... -0.150014 -0.144338 -0.156845   \n",
       "2            -0.077125          -0.763398  ... -0.150014 -0.144338 -0.156845   \n",
       "3            -0.322994          -0.660953  ... -0.150014 -0.144338 -0.156845   \n",
       "4            -1.186487           0.056162  ... -0.150014 -0.144338 -0.156845   \n",
       "\n",
       "   state_VT  state_WA  state_WI  state_WV  state_WY  international plan_yes  \\\n",
       "0 -0.144338 -0.147201 -0.163417 -0.175899   -0.1555               -0.327448   \n",
       "1 -0.144338 -0.147201 -0.163417 -0.175899   -0.1555               -0.327448   \n",
       "2 -0.144338 -0.147201 -0.163417 -0.175899   -0.1555               -0.327448   \n",
       "3 -0.144338 -0.147201 -0.163417 -0.175899   -0.1555               -0.327448   \n",
       "4 -0.144338 -0.147201 -0.163417 -0.175899   -0.1555               -0.327448   \n",
       "\n",
       "   voice mail plan_yes  \n",
       "0            -0.611418  \n",
       "1            -0.611418  \n",
       "2             1.635543  \n",
       "3            -0.611418  \n",
       "4            -0.611418  \n",
       "\n",
       "[5 rows x 67 columns]"
      ]
     },
     "execution_count": 31,
     "metadata": {},
     "output_type": "execute_result"
    }
   ],
   "source": [
    "X_tr_sm.head()"
   ]
  },
  {
   "cell_type": "code",
   "execution_count": 34,
   "metadata": {},
   "outputs": [
    {
     "name": "stdout",
     "output_type": "stream",
     "text": [
      "67\n"
     ]
    },
    {
     "data": {
      "text/plain": [
       "Index(['account length', 'number vmail messages', 'total day minutes',\n",
       "       'total day calls', 'total day charge', 'total eve minutes',\n",
       "       'total eve calls', 'total eve charge', 'total night minutes',\n",
       "       'total night calls', 'total night charge', 'total intl minutes',\n",
       "       'total intl calls', 'total intl charge', 'customer service calls',\n",
       "       'state_AL', 'state_AR', 'state_AZ', 'state_CA', 'state_CO', 'state_CT',\n",
       "       'state_DC', 'state_DE', 'state_FL', 'state_GA', 'state_HI', 'state_IA',\n",
       "       'state_ID', 'state_IL', 'state_IN', 'state_KS', 'state_KY', 'state_LA',\n",
       "       'state_MA', 'state_MD', 'state_ME', 'state_MI', 'state_MN', 'state_MO',\n",
       "       'state_MS', 'state_MT', 'state_NC', 'state_ND', 'state_NE', 'state_NH',\n",
       "       'state_NJ', 'state_NM', 'state_NV', 'state_NY', 'state_OH', 'state_OK',\n",
       "       'state_OR', 'state_PA', 'state_RI', 'state_SC', 'state_SD', 'state_TN',\n",
       "       'state_TX', 'state_UT', 'state_VA', 'state_VT', 'state_WA', 'state_WI',\n",
       "       'state_WV', 'state_WY', 'international plan_yes',\n",
       "       'voice mail plan_yes'],\n",
       "      dtype='object')"
      ]
     },
     "execution_count": 34,
     "metadata": {},
     "output_type": "execute_result"
    }
   ],
   "source": [
    "print(len(X_tr_sm.columns))\n",
    "X_tr_sm.columns"
   ]
  },
  {
   "cell_type": "code",
   "execution_count": 36,
   "metadata": {},
   "outputs": [
    {
     "data": {
      "text/plain": [
       "['state_AL',\n",
       " 'state_AR',\n",
       " 'state_AZ',\n",
       " 'state_CA',\n",
       " 'state_CO',\n",
       " 'state_CT',\n",
       " 'state_DC',\n",
       " 'state_DE',\n",
       " 'state_FL',\n",
       " 'state_GA',\n",
       " 'state_HI',\n",
       " 'state_IA',\n",
       " 'state_ID',\n",
       " 'state_IL',\n",
       " 'state_IN',\n",
       " 'state_KS',\n",
       " 'state_KY',\n",
       " 'state_LA',\n",
       " 'state_MA',\n",
       " 'state_MD',\n",
       " 'state_ME',\n",
       " 'state_MI',\n",
       " 'state_MN',\n",
       " 'state_MO',\n",
       " 'state_MS',\n",
       " 'state_MT',\n",
       " 'state_NC',\n",
       " 'state_ND',\n",
       " 'state_NE',\n",
       " 'state_NH',\n",
       " 'state_NJ',\n",
       " 'state_NM',\n",
       " 'state_NV',\n",
       " 'state_NY',\n",
       " 'state_OH',\n",
       " 'state_OK',\n",
       " 'state_OR',\n",
       " 'state_PA',\n",
       " 'state_RI',\n",
       " 'state_SC',\n",
       " 'state_SD',\n",
       " 'state_TN',\n",
       " 'state_TX',\n",
       " 'state_UT',\n",
       " 'state_VA',\n",
       " 'state_VT',\n",
       " 'state_WA',\n",
       " 'state_WI',\n",
       " 'state_WV',\n",
       " 'state_WY']"
      ]
     },
     "execution_count": 36,
     "metadata": {},
     "output_type": "execute_result"
    }
   ],
   "source": [
    "X_tr_sm_state_cols = [c for c in X_tr_sm.columns if c[:5] == 'state']\n",
    "X_tr_sm_state_cols"
   ]
  },
  {
   "cell_type": "code",
   "execution_count": 45,
   "metadata": {},
   "outputs": [
    {
     "data": {
      "text/plain": [
       "(4282, 13)"
      ]
     },
     "execution_count": 45,
     "metadata": {},
     "output_type": "execute_result"
    }
   ],
   "source": [
    "X_tr_sm_dropped5 = X_tr_sm.drop(X_tr_sm_state_cols, axis=1)\n",
    "X_tr_sm_dropped5 = X_tr_sm_dropped5.drop(dropped4, axis=1)\n",
    "X_tr_sm_dropped5.shape"
   ]
  },
  {
   "cell_type": "code",
   "execution_count": 46,
   "metadata": {},
   "outputs": [],
   "source": [
    "y_tr_sm_dropped5 = y_tr_sm"
   ]
  },
  {
   "cell_type": "markdown",
   "metadata": {},
   "source": [
    "#### Dropping columns from test dataset"
   ]
  },
  {
   "cell_type": "code",
   "execution_count": 32,
   "metadata": {},
   "outputs": [
    {
     "data": {
      "text/html": [
       "<div>\n",
       "<style scoped>\n",
       "    .dataframe tbody tr th:only-of-type {\n",
       "        vertical-align: middle;\n",
       "    }\n",
       "\n",
       "    .dataframe tbody tr th {\n",
       "        vertical-align: top;\n",
       "    }\n",
       "\n",
       "    .dataframe thead th {\n",
       "        text-align: right;\n",
       "    }\n",
       "</style>\n",
       "<table border=\"1\" class=\"dataframe\">\n",
       "  <thead>\n",
       "    <tr style=\"text-align: right;\">\n",
       "      <th></th>\n",
       "      <th>account length</th>\n",
       "      <th>number vmail messages</th>\n",
       "      <th>total day minutes</th>\n",
       "      <th>total day calls</th>\n",
       "      <th>total day charge</th>\n",
       "      <th>total eve minutes</th>\n",
       "      <th>total eve calls</th>\n",
       "      <th>total eve charge</th>\n",
       "      <th>total night minutes</th>\n",
       "      <th>total night calls</th>\n",
       "      <th>...</th>\n",
       "      <th>state_TX</th>\n",
       "      <th>state_UT</th>\n",
       "      <th>state_VA</th>\n",
       "      <th>state_VT</th>\n",
       "      <th>state_WA</th>\n",
       "      <th>state_WI</th>\n",
       "      <th>state_WV</th>\n",
       "      <th>state_WY</th>\n",
       "      <th>international plan_yes</th>\n",
       "      <th>voice mail plan_yes</th>\n",
       "    </tr>\n",
       "  </thead>\n",
       "  <tbody>\n",
       "    <tr>\n",
       "      <th>438</th>\n",
       "      <td>0.315791</td>\n",
       "      <td>-0.5847</td>\n",
       "      <td>-0.462675</td>\n",
       "      <td>-0.372733</td>\n",
       "      <td>-0.462730</td>\n",
       "      <td>2.562862</td>\n",
       "      <td>0.301688</td>\n",
       "      <td>2.562574</td>\n",
       "      <td>-0.220713</td>\n",
       "      <td>1.183057</td>\n",
       "      <td>...</td>\n",
       "      <td>-0.150014</td>\n",
       "      <td>-0.144338</td>\n",
       "      <td>-0.156845</td>\n",
       "      <td>-0.144338</td>\n",
       "      <td>-0.147201</td>\n",
       "      <td>-0.163417</td>\n",
       "      <td>-0.175899</td>\n",
       "      <td>6.430858</td>\n",
       "      <td>-0.327448</td>\n",
       "      <td>-0.611418</td>\n",
       "    </tr>\n",
       "    <tr>\n",
       "      <th>2674</th>\n",
       "      <td>-0.847941</td>\n",
       "      <td>-0.5847</td>\n",
       "      <td>-1.311946</td>\n",
       "      <td>0.829797</td>\n",
       "      <td>-1.311676</td>\n",
       "      <td>0.326524</td>\n",
       "      <td>1.198556</td>\n",
       "      <td>0.326702</td>\n",
       "      <td>-0.240382</td>\n",
       "      <td>2.105062</td>\n",
       "      <td>...</td>\n",
       "      <td>-0.150014</td>\n",
       "      <td>-0.144338</td>\n",
       "      <td>-0.156845</td>\n",
       "      <td>-0.144338</td>\n",
       "      <td>-0.147201</td>\n",
       "      <td>-0.163417</td>\n",
       "      <td>-0.175899</td>\n",
       "      <td>-0.155500</td>\n",
       "      <td>-0.327448</td>\n",
       "      <td>-0.611418</td>\n",
       "    </tr>\n",
       "    <tr>\n",
       "      <th>1345</th>\n",
       "      <td>-0.063687</td>\n",
       "      <td>-0.5847</td>\n",
       "      <td>-3.330584</td>\n",
       "      <td>-5.032539</td>\n",
       "      <td>-3.330643</td>\n",
       "      <td>-0.815352</td>\n",
       "      <td>1.497512</td>\n",
       "      <td>-0.814476</td>\n",
       "      <td>-0.659343</td>\n",
       "      <td>-0.609730</td>\n",
       "      <td>...</td>\n",
       "      <td>-0.150014</td>\n",
       "      <td>-0.144338</td>\n",
       "      <td>-0.156845</td>\n",
       "      <td>-0.144338</td>\n",
       "      <td>-0.147201</td>\n",
       "      <td>-0.163417</td>\n",
       "      <td>-0.175899</td>\n",
       "      <td>-0.155500</td>\n",
       "      <td>-0.327448</td>\n",
       "      <td>-0.611418</td>\n",
       "    </tr>\n",
       "    <tr>\n",
       "      <th>1957</th>\n",
       "      <td>1.175941</td>\n",
       "      <td>-0.5847</td>\n",
       "      <td>0.606778</td>\n",
       "      <td>-1.074209</td>\n",
       "      <td>0.607160</td>\n",
       "      <td>0.063774</td>\n",
       "      <td>-0.445702</td>\n",
       "      <td>0.064068</td>\n",
       "      <td>-0.873741</td>\n",
       "      <td>0.670832</td>\n",
       "      <td>...</td>\n",
       "      <td>-0.150014</td>\n",
       "      <td>-0.144338</td>\n",
       "      <td>-0.156845</td>\n",
       "      <td>-0.144338</td>\n",
       "      <td>-0.147201</td>\n",
       "      <td>-0.163417</td>\n",
       "      <td>-0.175899</td>\n",
       "      <td>-0.155500</td>\n",
       "      <td>-0.327448</td>\n",
       "      <td>-0.611418</td>\n",
       "    </tr>\n",
       "    <tr>\n",
       "      <th>2148</th>\n",
       "      <td>-0.114284</td>\n",
       "      <td>-0.5847</td>\n",
       "      <td>-0.666204</td>\n",
       "      <td>0.078216</td>\n",
       "      <td>-0.666259</td>\n",
       "      <td>0.470740</td>\n",
       "      <td>-1.342571</td>\n",
       "      <td>0.470802</td>\n",
       "      <td>0.532630</td>\n",
       "      <td>-0.456063</td>\n",
       "      <td>...</td>\n",
       "      <td>-0.150014</td>\n",
       "      <td>-0.144338</td>\n",
       "      <td>-0.156845</td>\n",
       "      <td>-0.144338</td>\n",
       "      <td>-0.147201</td>\n",
       "      <td>-0.163417</td>\n",
       "      <td>-0.175899</td>\n",
       "      <td>6.430858</td>\n",
       "      <td>-0.327448</td>\n",
       "      <td>-0.611418</td>\n",
       "    </tr>\n",
       "  </tbody>\n",
       "</table>\n",
       "<p>5 rows × 67 columns</p>\n",
       "</div>"
      ],
      "text/plain": [
       "      account length  number vmail messages  total day minutes  \\\n",
       "438         0.315791                -0.5847          -0.462675   \n",
       "2674       -0.847941                -0.5847          -1.311946   \n",
       "1345       -0.063687                -0.5847          -3.330584   \n",
       "1957        1.175941                -0.5847           0.606778   \n",
       "2148       -0.114284                -0.5847          -0.666204   \n",
       "\n",
       "      total day calls  total day charge  total eve minutes  total eve calls  \\\n",
       "438         -0.372733         -0.462730           2.562862         0.301688   \n",
       "2674         0.829797         -1.311676           0.326524         1.198556   \n",
       "1345        -5.032539         -3.330643          -0.815352         1.497512   \n",
       "1957        -1.074209          0.607160           0.063774        -0.445702   \n",
       "2148         0.078216         -0.666259           0.470740        -1.342571   \n",
       "\n",
       "      total eve charge  total night minutes  total night calls  ...  state_TX  \\\n",
       "438           2.562574            -0.220713           1.183057  ... -0.150014   \n",
       "2674          0.326702            -0.240382           2.105062  ... -0.150014   \n",
       "1345         -0.814476            -0.659343          -0.609730  ... -0.150014   \n",
       "1957          0.064068            -0.873741           0.670832  ... -0.150014   \n",
       "2148          0.470802             0.532630          -0.456063  ... -0.150014   \n",
       "\n",
       "      state_UT  state_VA  state_VT  state_WA  state_WI  state_WV  state_WY  \\\n",
       "438  -0.144338 -0.156845 -0.144338 -0.147201 -0.163417 -0.175899  6.430858   \n",
       "2674 -0.144338 -0.156845 -0.144338 -0.147201 -0.163417 -0.175899 -0.155500   \n",
       "1345 -0.144338 -0.156845 -0.144338 -0.147201 -0.163417 -0.175899 -0.155500   \n",
       "1957 -0.144338 -0.156845 -0.144338 -0.147201 -0.163417 -0.175899 -0.155500   \n",
       "2148 -0.144338 -0.156845 -0.144338 -0.147201 -0.163417 -0.175899  6.430858   \n",
       "\n",
       "      international plan_yes  voice mail plan_yes  \n",
       "438                -0.327448            -0.611418  \n",
       "2674               -0.327448            -0.611418  \n",
       "1345               -0.327448            -0.611418  \n",
       "1957               -0.327448            -0.611418  \n",
       "2148               -0.327448            -0.611418  \n",
       "\n",
       "[5 rows x 67 columns]"
      ]
     },
     "execution_count": 32,
     "metadata": {},
     "output_type": "execute_result"
    }
   ],
   "source": [
    "X_te_final_sc.head()"
   ]
  },
  {
   "cell_type": "code",
   "execution_count": 33,
   "metadata": {},
   "outputs": [
    {
     "name": "stdout",
     "output_type": "stream",
     "text": [
      "67\n"
     ]
    },
    {
     "data": {
      "text/html": [
       "<div>\n",
       "<style scoped>\n",
       "    .dataframe tbody tr th:only-of-type {\n",
       "        vertical-align: middle;\n",
       "    }\n",
       "\n",
       "    .dataframe tbody tr th {\n",
       "        vertical-align: top;\n",
       "    }\n",
       "\n",
       "    .dataframe thead th {\n",
       "        text-align: right;\n",
       "    }\n",
       "</style>\n",
       "<table border=\"1\" class=\"dataframe\">\n",
       "  <thead>\n",
       "    <tr style=\"text-align: right;\">\n",
       "      <th></th>\n",
       "      <th>account length</th>\n",
       "      <th>number vmail messages</th>\n",
       "      <th>total day minutes</th>\n",
       "      <th>total day calls</th>\n",
       "      <th>total day charge</th>\n",
       "      <th>total eve minutes</th>\n",
       "      <th>total eve calls</th>\n",
       "      <th>total eve charge</th>\n",
       "      <th>total night minutes</th>\n",
       "      <th>total night calls</th>\n",
       "      <th>...</th>\n",
       "      <th>state_TX</th>\n",
       "      <th>state_UT</th>\n",
       "      <th>state_VA</th>\n",
       "      <th>state_VT</th>\n",
       "      <th>state_WA</th>\n",
       "      <th>state_WI</th>\n",
       "      <th>state_WV</th>\n",
       "      <th>state_WY</th>\n",
       "      <th>international plan_yes</th>\n",
       "      <th>voice mail plan_yes</th>\n",
       "    </tr>\n",
       "  </thead>\n",
       "  <tbody>\n",
       "    <tr>\n",
       "      <th>438</th>\n",
       "      <td>0.315791</td>\n",
       "      <td>-0.584700</td>\n",
       "      <td>-0.462675</td>\n",
       "      <td>-0.372733</td>\n",
       "      <td>-0.462730</td>\n",
       "      <td>2.562862</td>\n",
       "      <td>0.301688</td>\n",
       "      <td>2.562574</td>\n",
       "      <td>-0.220713</td>\n",
       "      <td>1.183057</td>\n",
       "      <td>...</td>\n",
       "      <td>-0.150014</td>\n",
       "      <td>-0.144338</td>\n",
       "      <td>-0.156845</td>\n",
       "      <td>-0.144338</td>\n",
       "      <td>-0.147201</td>\n",
       "      <td>-0.163417</td>\n",
       "      <td>-0.175899</td>\n",
       "      <td>6.430858</td>\n",
       "      <td>-0.327448</td>\n",
       "      <td>-0.611418</td>\n",
       "    </tr>\n",
       "    <tr>\n",
       "      <th>2674</th>\n",
       "      <td>-0.847941</td>\n",
       "      <td>-0.584700</td>\n",
       "      <td>-1.311946</td>\n",
       "      <td>0.829797</td>\n",
       "      <td>-1.311676</td>\n",
       "      <td>0.326524</td>\n",
       "      <td>1.198556</td>\n",
       "      <td>0.326702</td>\n",
       "      <td>-0.240382</td>\n",
       "      <td>2.105062</td>\n",
       "      <td>...</td>\n",
       "      <td>-0.150014</td>\n",
       "      <td>-0.144338</td>\n",
       "      <td>-0.156845</td>\n",
       "      <td>-0.144338</td>\n",
       "      <td>-0.147201</td>\n",
       "      <td>-0.163417</td>\n",
       "      <td>-0.175899</td>\n",
       "      <td>-0.155500</td>\n",
       "      <td>-0.327448</td>\n",
       "      <td>-0.611418</td>\n",
       "    </tr>\n",
       "    <tr>\n",
       "      <th>1345</th>\n",
       "      <td>-0.063687</td>\n",
       "      <td>-0.584700</td>\n",
       "      <td>-3.330584</td>\n",
       "      <td>-5.032539</td>\n",
       "      <td>-3.330643</td>\n",
       "      <td>-0.815352</td>\n",
       "      <td>1.497512</td>\n",
       "      <td>-0.814476</td>\n",
       "      <td>-0.659343</td>\n",
       "      <td>-0.609730</td>\n",
       "      <td>...</td>\n",
       "      <td>-0.150014</td>\n",
       "      <td>-0.144338</td>\n",
       "      <td>-0.156845</td>\n",
       "      <td>-0.144338</td>\n",
       "      <td>-0.147201</td>\n",
       "      <td>-0.163417</td>\n",
       "      <td>-0.175899</td>\n",
       "      <td>-0.155500</td>\n",
       "      <td>-0.327448</td>\n",
       "      <td>-0.611418</td>\n",
       "    </tr>\n",
       "    <tr>\n",
       "      <th>1957</th>\n",
       "      <td>1.175941</td>\n",
       "      <td>-0.584700</td>\n",
       "      <td>0.606778</td>\n",
       "      <td>-1.074209</td>\n",
       "      <td>0.607160</td>\n",
       "      <td>0.063774</td>\n",
       "      <td>-0.445702</td>\n",
       "      <td>0.064068</td>\n",
       "      <td>-0.873741</td>\n",
       "      <td>0.670832</td>\n",
       "      <td>...</td>\n",
       "      <td>-0.150014</td>\n",
       "      <td>-0.144338</td>\n",
       "      <td>-0.156845</td>\n",
       "      <td>-0.144338</td>\n",
       "      <td>-0.147201</td>\n",
       "      <td>-0.163417</td>\n",
       "      <td>-0.175899</td>\n",
       "      <td>-0.155500</td>\n",
       "      <td>-0.327448</td>\n",
       "      <td>-0.611418</td>\n",
       "    </tr>\n",
       "    <tr>\n",
       "      <th>2148</th>\n",
       "      <td>-0.114284</td>\n",
       "      <td>-0.584700</td>\n",
       "      <td>-0.666204</td>\n",
       "      <td>0.078216</td>\n",
       "      <td>-0.666259</td>\n",
       "      <td>0.470740</td>\n",
       "      <td>-1.342571</td>\n",
       "      <td>0.470802</td>\n",
       "      <td>0.532630</td>\n",
       "      <td>-0.456063</td>\n",
       "      <td>...</td>\n",
       "      <td>-0.150014</td>\n",
       "      <td>-0.144338</td>\n",
       "      <td>-0.156845</td>\n",
       "      <td>-0.144338</td>\n",
       "      <td>-0.147201</td>\n",
       "      <td>-0.163417</td>\n",
       "      <td>-0.175899</td>\n",
       "      <td>6.430858</td>\n",
       "      <td>-0.327448</td>\n",
       "      <td>-0.611418</td>\n",
       "    </tr>\n",
       "    <tr>\n",
       "      <th>...</th>\n",
       "      <td>...</td>\n",
       "      <td>...</td>\n",
       "      <td>...</td>\n",
       "      <td>...</td>\n",
       "      <td>...</td>\n",
       "      <td>...</td>\n",
       "      <td>...</td>\n",
       "      <td>...</td>\n",
       "      <td>...</td>\n",
       "      <td>...</td>\n",
       "      <td>...</td>\n",
       "      <td>...</td>\n",
       "      <td>...</td>\n",
       "      <td>...</td>\n",
       "      <td>...</td>\n",
       "      <td>...</td>\n",
       "      <td>...</td>\n",
       "      <td>...</td>\n",
       "      <td>...</td>\n",
       "      <td>...</td>\n",
       "      <td>...</td>\n",
       "    </tr>\n",
       "    <tr>\n",
       "      <th>3257</th>\n",
       "      <td>1.783105</td>\n",
       "      <td>-0.584700</td>\n",
       "      <td>-0.786471</td>\n",
       "      <td>0.479059</td>\n",
       "      <td>-0.785982</td>\n",
       "      <td>-0.054760</td>\n",
       "      <td>0.451166</td>\n",
       "      <td>-0.054466</td>\n",
       "      <td>1.811150</td>\n",
       "      <td>1.592837</td>\n",
       "      <td>...</td>\n",
       "      <td>-0.150014</td>\n",
       "      <td>-0.144338</td>\n",
       "      <td>-0.156845</td>\n",
       "      <td>-0.144338</td>\n",
       "      <td>-0.147201</td>\n",
       "      <td>-0.163417</td>\n",
       "      <td>-0.175899</td>\n",
       "      <td>-0.155500</td>\n",
       "      <td>-0.327448</td>\n",
       "      <td>-0.611418</td>\n",
       "    </tr>\n",
       "    <tr>\n",
       "      <th>1586</th>\n",
       "      <td>-0.291373</td>\n",
       "      <td>-0.584700</td>\n",
       "      <td>-1.807817</td>\n",
       "      <td>-1.174420</td>\n",
       "      <td>-1.807982</td>\n",
       "      <td>-0.665209</td>\n",
       "      <td>-0.993789</td>\n",
       "      <td>-0.665728</td>\n",
       "      <td>-0.116464</td>\n",
       "      <td>-1.531735</td>\n",
       "      <td>...</td>\n",
       "      <td>-0.150014</td>\n",
       "      <td>-0.144338</td>\n",
       "      <td>-0.156845</td>\n",
       "      <td>-0.144338</td>\n",
       "      <td>-0.147201</td>\n",
       "      <td>-0.163417</td>\n",
       "      <td>-0.175899</td>\n",
       "      <td>-0.155500</td>\n",
       "      <td>-0.327448</td>\n",
       "      <td>-0.611418</td>\n",
       "    </tr>\n",
       "    <tr>\n",
       "      <th>3068</th>\n",
       "      <td>-0.569657</td>\n",
       "      <td>0.952907</td>\n",
       "      <td>-0.359060</td>\n",
       "      <td>-0.773577</td>\n",
       "      <td>-0.359332</td>\n",
       "      <td>0.439131</td>\n",
       "      <td>-1.043615</td>\n",
       "      <td>0.438263</td>\n",
       "      <td>-1.507100</td>\n",
       "      <td>-0.404840</td>\n",
       "      <td>...</td>\n",
       "      <td>-0.150014</td>\n",
       "      <td>-0.144338</td>\n",
       "      <td>-0.156845</td>\n",
       "      <td>-0.144338</td>\n",
       "      <td>-0.147201</td>\n",
       "      <td>-0.163417</td>\n",
       "      <td>-0.175899</td>\n",
       "      <td>-0.155500</td>\n",
       "      <td>-0.327448</td>\n",
       "      <td>1.635543</td>\n",
       "    </tr>\n",
       "    <tr>\n",
       "      <th>2484</th>\n",
       "      <td>1.024150</td>\n",
       "      <td>2.270856</td>\n",
       "      <td>-1.167625</td>\n",
       "      <td>1.330852</td>\n",
       "      <td>-1.168008</td>\n",
       "      <td>1.494082</td>\n",
       "      <td>-0.595181</td>\n",
       "      <td>1.493446</td>\n",
       "      <td>1.756076</td>\n",
       "      <td>1.285502</td>\n",
       "      <td>...</td>\n",
       "      <td>-0.150014</td>\n",
       "      <td>-0.144338</td>\n",
       "      <td>-0.156845</td>\n",
       "      <td>-0.144338</td>\n",
       "      <td>-0.147201</td>\n",
       "      <td>-0.163417</td>\n",
       "      <td>-0.175899</td>\n",
       "      <td>-0.155500</td>\n",
       "      <td>-0.327448</td>\n",
       "      <td>1.635543</td>\n",
       "    </tr>\n",
       "    <tr>\n",
       "      <th>219</th>\n",
       "      <td>0.138701</td>\n",
       "      <td>-0.584700</td>\n",
       "      <td>0.795505</td>\n",
       "      <td>1.030219</td>\n",
       "      <td>0.795452</td>\n",
       "      <td>-1.793256</td>\n",
       "      <td>-0.096920</td>\n",
       "      <td>-1.792961</td>\n",
       "      <td>-0.234481</td>\n",
       "      <td>0.363497</td>\n",
       "      <td>...</td>\n",
       "      <td>-0.150014</td>\n",
       "      <td>-0.144338</td>\n",
       "      <td>-0.156845</td>\n",
       "      <td>-0.144338</td>\n",
       "      <td>-0.147201</td>\n",
       "      <td>-0.163417</td>\n",
       "      <td>-0.175899</td>\n",
       "      <td>-0.155500</td>\n",
       "      <td>-0.327448</td>\n",
       "      <td>-0.611418</td>\n",
       "    </tr>\n",
       "  </tbody>\n",
       "</table>\n",
       "<p>834 rows × 67 columns</p>\n",
       "</div>"
      ],
      "text/plain": [
       "      account length  number vmail messages  total day minutes  \\\n",
       "438         0.315791              -0.584700          -0.462675   \n",
       "2674       -0.847941              -0.584700          -1.311946   \n",
       "1345       -0.063687              -0.584700          -3.330584   \n",
       "1957        1.175941              -0.584700           0.606778   \n",
       "2148       -0.114284              -0.584700          -0.666204   \n",
       "...              ...                    ...                ...   \n",
       "3257        1.783105              -0.584700          -0.786471   \n",
       "1586       -0.291373              -0.584700          -1.807817   \n",
       "3068       -0.569657               0.952907          -0.359060   \n",
       "2484        1.024150               2.270856          -1.167625   \n",
       "219         0.138701              -0.584700           0.795505   \n",
       "\n",
       "      total day calls  total day charge  total eve minutes  total eve calls  \\\n",
       "438         -0.372733         -0.462730           2.562862         0.301688   \n",
       "2674         0.829797         -1.311676           0.326524         1.198556   \n",
       "1345        -5.032539         -3.330643          -0.815352         1.497512   \n",
       "1957        -1.074209          0.607160           0.063774        -0.445702   \n",
       "2148         0.078216         -0.666259           0.470740        -1.342571   \n",
       "...               ...               ...                ...              ...   \n",
       "3257         0.479059         -0.785982          -0.054760         0.451166   \n",
       "1586        -1.174420         -1.807982          -0.665209        -0.993789   \n",
       "3068        -0.773577         -0.359332           0.439131        -1.043615   \n",
       "2484         1.330852         -1.168008           1.494082        -0.595181   \n",
       "219          1.030219          0.795452          -1.793256        -0.096920   \n",
       "\n",
       "      total eve charge  total night minutes  total night calls  ...  state_TX  \\\n",
       "438           2.562574            -0.220713           1.183057  ... -0.150014   \n",
       "2674          0.326702            -0.240382           2.105062  ... -0.150014   \n",
       "1345         -0.814476            -0.659343          -0.609730  ... -0.150014   \n",
       "1957          0.064068            -0.873741           0.670832  ... -0.150014   \n",
       "2148          0.470802             0.532630          -0.456063  ... -0.150014   \n",
       "...                ...                  ...                ...  ...       ...   \n",
       "3257         -0.054466             1.811150           1.592837  ... -0.150014   \n",
       "1586         -0.665728            -0.116464          -1.531735  ... -0.150014   \n",
       "3068          0.438263            -1.507100          -0.404840  ... -0.150014   \n",
       "2484          1.493446             1.756076           1.285502  ... -0.150014   \n",
       "219          -1.792961            -0.234481           0.363497  ... -0.150014   \n",
       "\n",
       "      state_UT  state_VA  state_VT  state_WA  state_WI  state_WV  state_WY  \\\n",
       "438  -0.144338 -0.156845 -0.144338 -0.147201 -0.163417 -0.175899  6.430858   \n",
       "2674 -0.144338 -0.156845 -0.144338 -0.147201 -0.163417 -0.175899 -0.155500   \n",
       "1345 -0.144338 -0.156845 -0.144338 -0.147201 -0.163417 -0.175899 -0.155500   \n",
       "1957 -0.144338 -0.156845 -0.144338 -0.147201 -0.163417 -0.175899 -0.155500   \n",
       "2148 -0.144338 -0.156845 -0.144338 -0.147201 -0.163417 -0.175899  6.430858   \n",
       "...        ...       ...       ...       ...       ...       ...       ...   \n",
       "3257 -0.144338 -0.156845 -0.144338 -0.147201 -0.163417 -0.175899 -0.155500   \n",
       "1586 -0.144338 -0.156845 -0.144338 -0.147201 -0.163417 -0.175899 -0.155500   \n",
       "3068 -0.144338 -0.156845 -0.144338 -0.147201 -0.163417 -0.175899 -0.155500   \n",
       "2484 -0.144338 -0.156845 -0.144338 -0.147201 -0.163417 -0.175899 -0.155500   \n",
       "219  -0.144338 -0.156845 -0.144338 -0.147201 -0.163417 -0.175899 -0.155500   \n",
       "\n",
       "      international plan_yes  voice mail plan_yes  \n",
       "438                -0.327448            -0.611418  \n",
       "2674               -0.327448            -0.611418  \n",
       "1345               -0.327448            -0.611418  \n",
       "1957               -0.327448            -0.611418  \n",
       "2148               -0.327448            -0.611418  \n",
       "...                      ...                  ...  \n",
       "3257               -0.327448            -0.611418  \n",
       "1586               -0.327448            -0.611418  \n",
       "3068               -0.327448             1.635543  \n",
       "2484               -0.327448             1.635543  \n",
       "219                -0.327448            -0.611418  \n",
       "\n",
       "[834 rows x 67 columns]"
      ]
     },
     "execution_count": 33,
     "metadata": {},
     "output_type": "execute_result"
    }
   ],
   "source": [
    "print(len(X_te_final_sc.columns))\n",
    "X_te_final_sc"
   ]
  },
  {
   "cell_type": "code",
   "execution_count": 44,
   "metadata": {},
   "outputs": [
    {
     "data": {
      "text/plain": [
       "(834, 13)"
      ]
     },
     "execution_count": 44,
     "metadata": {},
     "output_type": "execute_result"
    }
   ],
   "source": [
    "X_te_dropped5 = X_te_final_sc.drop(X_tr_sm_state_cols, axis=1)\n",
    "X_te_dropped5 = X_te_dropped5.drop(dropped4, axis=1)\n",
    "X_te_dropped5.shape"
   ]
  },
  {
   "cell_type": "markdown",
   "metadata": {},
   "source": [
    "#### recall"
   ]
  },
  {
   "cell_type": "code",
   "execution_count": 25,
   "metadata": {},
   "outputs": [
    {
     "data": {
      "text/plain": [
       "{'rf__max_depth': 5,\n",
       " 'rf__max_features': 0.5,\n",
       " 'rf__min_samples_split': 3,\n",
       " 'rf__n_estimators': 300}"
      ]
     },
     "execution_count": 25,
     "metadata": {},
     "output_type": "execute_result"
    }
   ],
   "source": [
    "# recall\n",
    "\n",
    "{'rf__max_depth': 5,\n",
    " 'rf__max_features': 0.5,\n",
    " 'rf__min_samples_split': 3,\n",
    " 'rf__n_estimators': 300}"
   ]
  },
  {
   "cell_type": "code",
   "execution_count": 49,
   "metadata": {},
   "outputs": [
    {
     "data": {
      "text/html": [
       "<div>\n",
       "<style scoped>\n",
       "    .dataframe tbody tr th:only-of-type {\n",
       "        vertical-align: middle;\n",
       "    }\n",
       "\n",
       "    .dataframe tbody tr th {\n",
       "        vertical-align: top;\n",
       "    }\n",
       "\n",
       "    .dataframe thead th {\n",
       "        text-align: right;\n",
       "    }\n",
       "</style>\n",
       "<table border=\"1\" class=\"dataframe\">\n",
       "  <thead>\n",
       "    <tr style=\"text-align: right;\">\n",
       "      <th></th>\n",
       "      <th>account length</th>\n",
       "      <th>number vmail messages</th>\n",
       "      <th>total day calls</th>\n",
       "      <th>total day charge</th>\n",
       "      <th>total eve calls</th>\n",
       "      <th>total eve charge</th>\n",
       "      <th>total night calls</th>\n",
       "      <th>total night charge</th>\n",
       "      <th>total intl calls</th>\n",
       "      <th>total intl charge</th>\n",
       "      <th>customer service calls</th>\n",
       "      <th>international plan_yes</th>\n",
       "      <th>voice mail plan_yes</th>\n",
       "    </tr>\n",
       "  </thead>\n",
       "  <tbody>\n",
       "    <tr>\n",
       "      <th>0</th>\n",
       "      <td>-1.404508</td>\n",
       "      <td>-0.584700</td>\n",
       "      <td>1.330852</td>\n",
       "      <td>-1.884170</td>\n",
       "      <td>0.401340</td>\n",
       "      <td>1.037905</td>\n",
       "      <td>0.004940</td>\n",
       "      <td>1.071757</td>\n",
       "      <td>-0.595235</td>\n",
       "      <td>2.767357</td>\n",
       "      <td>-0.427903</td>\n",
       "      <td>-0.327448</td>\n",
       "      <td>-0.611418</td>\n",
       "    </tr>\n",
       "    <tr>\n",
       "      <th>1</th>\n",
       "      <td>0.366388</td>\n",
       "      <td>-0.584700</td>\n",
       "      <td>0.529165</td>\n",
       "      <td>0.293703</td>\n",
       "      <td>0.401340</td>\n",
       "      <td>0.517286</td>\n",
       "      <td>0.670832</td>\n",
       "      <td>2.212569</td>\n",
       "      <td>-1.417963</td>\n",
       "      <td>1.045965</td>\n",
       "      <td>0.324616</td>\n",
       "      <td>-0.327448</td>\n",
       "      <td>-0.611418</td>\n",
       "    </tr>\n",
       "    <tr>\n",
       "      <th>2</th>\n",
       "      <td>0.518179</td>\n",
       "      <td>1.685101</td>\n",
       "      <td>-1.875896</td>\n",
       "      <td>1.056666</td>\n",
       "      <td>0.849774</td>\n",
       "      <td>0.094283</td>\n",
       "      <td>-0.763398</td>\n",
       "      <td>-0.077797</td>\n",
       "      <td>0.227493</td>\n",
       "      <td>-0.053077</td>\n",
       "      <td>1.829653</td>\n",
       "      <td>-0.327448</td>\n",
       "      <td>1.635543</td>\n",
       "    </tr>\n",
       "    <tr>\n",
       "      <th>3</th>\n",
       "      <td>2.010792</td>\n",
       "      <td>-0.584700</td>\n",
       "      <td>1.681590</td>\n",
       "      <td>-0.679320</td>\n",
       "      <td>0.650470</td>\n",
       "      <td>-0.403094</td>\n",
       "      <td>-0.660953</td>\n",
       "      <td>-0.322569</td>\n",
       "      <td>-0.183871</td>\n",
       "      <td>-0.053077</td>\n",
       "      <td>-0.427903</td>\n",
       "      <td>-0.327448</td>\n",
       "      <td>-0.611418</td>\n",
       "    </tr>\n",
       "    <tr>\n",
       "      <th>4</th>\n",
       "      <td>0.290493</td>\n",
       "      <td>-0.584700</td>\n",
       "      <td>1.080325</td>\n",
       "      <td>0.484172</td>\n",
       "      <td>-0.296224</td>\n",
       "      <td>-0.719184</td>\n",
       "      <td>0.056162</td>\n",
       "      <td>-1.188013</td>\n",
       "      <td>1.050221</td>\n",
       "      <td>0.834102</td>\n",
       "      <td>1.077134</td>\n",
       "      <td>-0.327448</td>\n",
       "      <td>-0.611418</td>\n",
       "    </tr>\n",
       "  </tbody>\n",
       "</table>\n",
       "</div>"
      ],
      "text/plain": [
       "   account length  number vmail messages  total day calls  total day charge  \\\n",
       "0       -1.404508              -0.584700         1.330852         -1.884170   \n",
       "1        0.366388              -0.584700         0.529165          0.293703   \n",
       "2        0.518179               1.685101        -1.875896          1.056666   \n",
       "3        2.010792              -0.584700         1.681590         -0.679320   \n",
       "4        0.290493              -0.584700         1.080325          0.484172   \n",
       "\n",
       "   total eve calls  total eve charge  total night calls  total night charge  \\\n",
       "0         0.401340          1.037905           0.004940            1.071757   \n",
       "1         0.401340          0.517286           0.670832            2.212569   \n",
       "2         0.849774          0.094283          -0.763398           -0.077797   \n",
       "3         0.650470         -0.403094          -0.660953           -0.322569   \n",
       "4        -0.296224         -0.719184           0.056162           -1.188013   \n",
       "\n",
       "   total intl calls  total intl charge  customer service calls  \\\n",
       "0         -0.595235           2.767357               -0.427903   \n",
       "1         -1.417963           1.045965                0.324616   \n",
       "2          0.227493          -0.053077                1.829653   \n",
       "3         -0.183871          -0.053077               -0.427903   \n",
       "4          1.050221           0.834102                1.077134   \n",
       "\n",
       "   international plan_yes  voice mail plan_yes  \n",
       "0               -0.327448            -0.611418  \n",
       "1               -0.327448            -0.611418  \n",
       "2               -0.327448             1.635543  \n",
       "3               -0.327448            -0.611418  \n",
       "4               -0.327448            -0.611418  "
      ]
     },
     "execution_count": 49,
     "metadata": {},
     "output_type": "execute_result"
    }
   ],
   "source": [
    "X_tr_sm_dropped5.head()"
   ]
  },
  {
   "cell_type": "code",
   "execution_count": 50,
   "metadata": {},
   "outputs": [
    {
     "data": {
      "text/plain": [
       "(4282, 13)"
      ]
     },
     "execution_count": 50,
     "metadata": {},
     "output_type": "execute_result"
    }
   ],
   "source": [
    "X_tr_sm_dropped5.shape"
   ]
  },
  {
   "cell_type": "code",
   "execution_count": 52,
   "metadata": {},
   "outputs": [
    {
     "data": {
      "text/plain": [
       "(4282,)"
      ]
     },
     "execution_count": 52,
     "metadata": {},
     "output_type": "execute_result"
    }
   ],
   "source": [
    "y_tr_sm_dropped5.shape"
   ]
  },
  {
   "cell_type": "code",
   "execution_count": 54,
   "metadata": {},
   "outputs": [
    {
     "data": {
      "text/plain": [
       "(834, 13)"
      ]
     },
     "execution_count": 54,
     "metadata": {},
     "output_type": "execute_result"
    }
   ],
   "source": [
    "X_te_dropped5.head()\n",
    "X_te_dropped5.shape"
   ]
  },
  {
   "cell_type": "code",
   "execution_count": 58,
   "metadata": {},
   "outputs": [
    {
     "name": "stdout",
     "output_type": "stream",
     "text": [
      "[[651  58]\n",
      " [ 24 101]]\n",
      "              precision    recall  f1-score   support\n",
      "\n",
      "       False       0.96      0.92      0.94       709\n",
      "        True       0.64      0.81      0.71       125\n",
      "\n",
      "    accuracy                           0.90       834\n",
      "   macro avg       0.80      0.86      0.83       834\n",
      "weighted avg       0.92      0.90      0.91       834\n",
      "\n"
     ]
    },
    {
     "data": {
      "image/png": "[encoded data removed]",
      "text/plain": [
       "<Figure size 432x288 with 1 Axes>"
      ]
     },
     "metadata": {
      "needs_background": "light"
     },
     "output_type": "display_data"
    }
   ],
   "source": [
    "forest5_recall = RandomForestClassifier(max_depth=5, max_features=0.5, min_samples_split=3, n_estimators= 300,\n",
    "                                       random_state=42)\n",
    "\n",
    "forest5_recall.fit(X_tr_sm_dropped5, y_tr_sm_dropped5)\n",
    "forest5_recall_y_pred = forest5_recall.predict(X_te_dropped5)\n",
    "\n",
    "print(confusion_matrix(y_test, forest5_recall_y_pred))\n",
    "\n",
    "print(classification_report(y_test, forest5_recall_y_pred))\n",
    "\n",
    "forest5_recall_summary = list(zip(X_tr_sm_dropped5.columns, forest5_recall.feature_importances_))\n",
    "forest5_recall_summary = sorted(forest5_recall_summary,key=itemgetter(1), reverse=True)\n",
    "\n",
    "forest5_recall_ylabel = [i[0] for i in forest5_recall_summary][:5]\n",
    "forest5_recall_xlabel = [i[1] for i in forest5_recall_summary][:5]\n",
    "\n",
    "fig, ax = plt.subplots()\n",
    "ax.barh(forest5_recall_ylabel, forest5_recall_xlabel)\n",
    "ax.invert_yaxis()"
   ]
  },
  {
   "cell_type": "markdown",
   "metadata": {},
   "source": [
    "#### f1"
   ]
  },
  {
   "cell_type": "code",
   "execution_count": 26,
   "metadata": {},
   "outputs": [
    {
     "data": {
      "text/plain": [
       "{'rf__max_depth': 25,\n",
       " 'rf__max_features': 0.5,\n",
       " 'rf__min_samples_split': 3,\n",
       " 'rf__n_estimators': 100}"
      ]
     },
     "execution_count": 26,
     "metadata": {},
     "output_type": "execute_result"
    }
   ],
   "source": [
    "# f1\n",
    "\n",
    "{'rf__max_depth': 25,\n",
    " 'rf__max_features': 0.5,\n",
    " 'rf__min_samples_split': 3,\n",
    " 'rf__n_estimators': 100}"
   ]
  },
  {
   "cell_type": "code",
   "execution_count": 59,
   "metadata": {},
   "outputs": [
    {
     "name": "stdout",
     "output_type": "stream",
     "text": [
      "[[686  23]\n",
      " [ 24 101]]\n",
      "              precision    recall  f1-score   support\n",
      "\n",
      "       False       0.97      0.97      0.97       709\n",
      "        True       0.81      0.81      0.81       125\n",
      "\n",
      "    accuracy                           0.94       834\n",
      "   macro avg       0.89      0.89      0.89       834\n",
      "weighted avg       0.94      0.94      0.94       834\n",
      "\n"
     ]
    },
    {
     "data": {
      "image/png": "[encoded data removed]",
      "text/plain": [
       "<Figure size 432x288 with 1 Axes>"
      ]
     },
     "metadata": {
      "needs_background": "light"
     },
     "output_type": "display_data"
    }
   ],
   "source": [
    "forest5_f1 = RandomForestClassifier(max_depth=25, max_features=0.5, min_samples_split=3, n_estimators= 100, \n",
    "                                    random_state=42)\n",
    "\n",
    "forest5_f1.fit(X_tr_sm_dropped5, y_tr_sm_dropped5)\n",
    "forest5_f1_y_pred = forest5_f1.predict(X_te_dropped5)\n",
    "\n",
    "print(confusion_matrix(y_test, forest5_f1_y_pred))\n",
    "\n",
    "print(classification_report(y_test, forest5_f1_y_pred))\n",
    "\n",
    "forest5_f1_summary = list(zip(X_tr_sm_dropped5.columns, forest5_f1.feature_importances_))\n",
    "forest5_f1_summary = sorted(forest5_f1_summary,key=itemgetter(1), reverse=True)\n",
    "\n",
    "forest5_f1_ylabel = [i[0] for i in forest5_f1_summary][:5]\n",
    "forest5_f1_xlabel = [i[1] for i in forest5_f1_summary][:5]\n",
    "\n",
    "fig, ax = plt.subplots()\n",
    "ax.barh(forest5_f1_ylabel, forest5_f1_xlabel)\n",
    "ax.invert_yaxis()"
   ]
  },
  {
   "cell_type": "markdown",
   "metadata": {},
   "source": [
    "#### precision"
   ]
  },
  {
   "cell_type": "code",
   "execution_count": 28,
   "metadata": {},
   "outputs": [
    {
     "data": {
      "text/plain": [
       "{'rf__max_depth': 25,\n",
       " 'rf__max_features': 0.5,\n",
       " 'rf__min_samples_split': 3,\n",
       " 'rf__n_estimators': 100}"
      ]
     },
     "execution_count": 28,
     "metadata": {},
     "output_type": "execute_result"
    }
   ],
   "source": [
    "# precision\n",
    "\n",
    "{'rf__max_depth': 25,\n",
    " 'rf__max_features': 0.5,\n",
    " 'rf__min_samples_split': 3,\n",
    " 'rf__n_estimators': 100}"
   ]
  },
  {
   "cell_type": "code",
   "execution_count": 60,
   "metadata": {},
   "outputs": [
    {
     "name": "stdout",
     "output_type": "stream",
     "text": [
      "[[686  23]\n",
      " [ 24 101]]\n",
      "              precision    recall  f1-score   support\n",
      "\n",
      "       False       0.97      0.97      0.97       709\n",
      "        True       0.81      0.81      0.81       125\n",
      "\n",
      "    accuracy                           0.94       834\n",
      "   macro avg       0.89      0.89      0.89       834\n",
      "weighted avg       0.94      0.94      0.94       834\n",
      "\n"
     ]
    },
    {
     "data": {
      "image/png": "[encoded data removed]",
      "text/plain": [
       "<Figure size 432x288 with 1 Axes>"
      ]
     },
     "metadata": {
      "needs_background": "light"
     },
     "output_type": "display_data"
    }
   ],
   "source": [
    "forest5_precision = RandomForestClassifier(max_depth=25, max_features=0.5, min_samples_split=3, n_estimators= 100,\n",
    "                                       random_state=42)\n",
    "\n",
    "forest5_precision.fit(X_tr_sm_dropped5, y_tr_sm_dropped5)\n",
    "forest5_precision_y_pred = forest5_precision.predict(X_te_dropped5)\n",
    "\n",
    "print(confusion_matrix(y_test, forest5_precision_y_pred))\n",
    "\n",
    "print(classification_report(y_test, forest5_precision_y_pred))\n",
    "\n",
    "forest5_precision_summary = list(zip(X_tr_sm_dropped5.columns, forest5_precision.feature_importances_))\n",
    "forest5_precision_summary = sorted(forest5_precision_summary,key=itemgetter(1), reverse=True)\n",
    "\n",
    "forest5_precision_ylabel = [i[0] for i in forest5_precision_summary][:5]\n",
    "forest5_precision_xlabel = [i[1] for i in forest5_precision_summary][:5]\n",
    "\n",
    "fig, ax = plt.subplots()\n",
    "ax.barh(forest5_precision_ylabel, forest5_precision_xlabel)\n",
    "ax.invert_yaxis()"
   ]
  },
  {
   "cell_type": "code",
   "execution_count": 23,
   "metadata": {},
   "outputs": [],
   "source": [
    "# how do we check for overfitting?\n",
    "# how come 'total day minutes' and 'total day charge' have such a high predicting influence on our model?"
   ]
  }
 ],
 "metadata": {
  "kernelspec": {
   "display_name": "Python 3",
   "language": "python",
   "name": "python3"
  },
  "language_info": {
   "codemirror_mode": {
    "name": "ipython",
    "version": 3
   },
   "file_extension": ".py",
   "mimetype": "text/x-python",
   "name": "python",
   "nbconvert_exporter": "python",
   "pygments_lexer": "ipython3",
   "version": "3.8.3"
  }
 },
 "nbformat": 4,
 "nbformat_minor": 4
}
