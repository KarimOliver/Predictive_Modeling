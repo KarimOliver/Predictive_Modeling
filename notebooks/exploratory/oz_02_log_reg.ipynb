{
 "cells": [
  {
   "cell_type": "code",
   "execution_count": 150,
   "metadata": {},
   "outputs": [],
   "source": [
    "# PUT CUSTOM FUNCTIONS AT TOP SO WE CAN TRANSFER TO A SEPARATE PYTHON FILE\n",
    "\n",
    "def get_metrics_smoted(model):\n",
    "    '''\n",
    "    model = instantiated instace of classifier\n",
    "    '''\n",
    "   \n",
    "    model.fit(X_tr_sm, y_tr_sm)\n",
    "    y_pred = model.predict(X_te_final_sc)\n",
    "    \n",
    "    return print(confusion_matrix(y_test, y_pred), '\\n', \n",
    "                 classification_report(y_test, y_pred))"
   ]
  },
  {
   "cell_type": "code",
   "execution_count": 152,
   "metadata": {},
   "outputs": [],
   "source": [
    "# copy & paste this cell in new notebook \n",
    "# to have all the libraries we're working with\n",
    "# and the og data, modified df, X (feature vars) and y (target var)\n",
    "\n",
    "# Libraries\n",
    "import pandas as pd\n",
    "import numpy as np\n",
    "import seaborn as sns\n",
    "import matplotlib.pyplot as plt\n",
    "from operator import itemgetter # for sorting a list of tuples based on the second element of ea tuple.\n",
    "from sklearn.model_selection import train_test_split, cross_val_score, GridSearchCV\n",
    "from sklearn.linear_model import LogisticRegression\n",
    "from sklearn.preprocessing import OneHotEncoder, StandardScaler\n",
    "from sklearn.metrics import confusion_matrix, f1_score, classification_report\n",
    "from sklearn.pipeline import make_pipeline\n",
    "from sklearn.compose import make_column_selector as selector\n",
    "from sklearn.compose import ColumnTransformer\n",
    "from imblearn.over_sampling import SMOTE"
   ]
  },
  {
   "cell_type": "code",
   "execution_count": 148,
   "metadata": {},
   "outputs": [],
   "source": [
    "# importing ohe'd & scaled X_train/X_test as dataframes\n",
    "# importing y_train and test as series\n",
    "\n",
    "X_tr_final_sc = pd.read_csv('../../src/data/X_tr_final_sc_seeded_42.csv', index_col=0)\n",
    "X_te_final_sc = pd.read_csv('../../src/data/X_te_final_sc_seeded_42.csv', index_col=0)\n",
    "\n",
    "y_train = pd.read_csv('../../src/data/y_train_seeded_42.csv', index_col=0, squeeze=True)\n",
    "y_test = pd.read_csv('../../src/data/y_test_seeded_42.csv', index_col=0, squeeze=True)\n",
    "\n",
    "# print('train datasets: ', X_tr_final_sc.shape, y_train.shape)\n",
    "# print('test datasets: ', X_te_final_sc.shape, y_test.shape)\n",
    "\n",
    "\n",
    "# SMOTE\n",
    "\n",
    "sm = SMOTE(random_state=42)\n",
    "X_tr_sm, y_tr_sm = sm.fit_resample(X_tr_final_sc, y_train)\n",
    "\n",
    "# print(\"SMOTE'd train datasets: \", X_tr_final_smoted.shape, y_tr_smoted.shape)\n",
    "# print(y_tr_smoted.value_counts())"
   ]
  },
  {
   "cell_type": "code",
   "execution_count": 195,
   "metadata": {},
   "outputs": [
    {
     "data": {
      "text/plain": [
       "False    2141\n",
       "True      358\n",
       "Name: churn, dtype: int64"
      ]
     },
     "execution_count": 195,
     "metadata": {},
     "output_type": "execute_result"
    }
   ],
   "source": [
    "y_train.value_counts()"
   ]
  },
  {
   "cell_type": "code",
   "execution_count": 199,
   "metadata": {},
   "outputs": [
    {
     "data": {
      "text/plain": [
       "367     False\n",
       "3103    False\n",
       "549     False\n",
       "2531    False\n",
       "2378    False\n",
       "        ...  \n",
       "1095    False\n",
       "1130    False\n",
       "1294    False\n",
       "860     False\n",
       "3174    False\n",
       "Name: churn, Length: 2499, dtype: bool"
      ]
     },
     "execution_count": 199,
     "metadata": {},
     "output_type": "execute_result"
    }
   ],
   "source": [
    "y_train"
   ]
  },
  {
   "cell_type": "code",
   "execution_count": 198,
   "metadata": {},
   "outputs": [
    {
     "data": {
      "text/plain": [
       "pandas.core.series.Series"
      ]
     },
     "execution_count": 198,
     "metadata": {},
     "output_type": "execute_result"
    }
   ],
   "source": [
    "type(y_train)"
   ]
  },
  {
   "cell_type": "code",
   "execution_count": 197,
   "metadata": {},
   "outputs": [
    {
     "data": {
      "text/plain": [
       "pandas.core.series.Series"
      ]
     },
     "execution_count": 197,
     "metadata": {},
     "output_type": "execute_result"
    }
   ],
   "source": [
    "type(y_tr_sm)"
   ]
  },
  {
   "cell_type": "markdown",
   "metadata": {},
   "source": [
    "---\n",
    "\n",
    "# Logistic Regression"
   ]
  },
  {
   "cell_type": "markdown",
   "metadata": {},
   "source": [
    "#### ---\n",
    "\n",
    "## log1\n",
    "- FSM"
   ]
  },
  {
   "cell_type": "code",
   "execution_count": 181,
   "metadata": {},
   "outputs": [
    {
     "name": "stdout",
     "output_type": "stream",
     "text": [
      "[[689  20]\n",
      " [ 97  28]]\n",
      "              precision    recall  f1-score   support\n",
      "\n",
      "       False       0.88      0.97      0.92       709\n",
      "        True       0.58      0.22      0.32       125\n",
      "\n",
      "    accuracy                           0.86       834\n",
      "   macro avg       0.73      0.60      0.62       834\n",
      "weighted avg       0.83      0.86      0.83       834\n",
      "\n"
     ]
    }
   ],
   "source": [
    "log1 = LogisticRegression()\n",
    "log1.fit(X_tr_final_sc, y_train)\n",
    "log1_y_preds = log1.predict(X_te_final_sc)\n",
    "\n",
    "print(confusion_matrix(y_test, log1_y_preds))\n",
    "\n",
    "print(classification_report(y_test, log1_y_preds))"
   ]
  },
  {
   "cell_type": "markdown",
   "metadata": {},
   "source": [
    "#### ---\n",
    "\n",
    "## log2\n",
    "- w/ SMOTE'd data"
   ]
  },
  {
   "cell_type": "code",
   "execution_count": 187,
   "metadata": {},
   "outputs": [
    {
     "name": "stdout",
     "output_type": "stream",
     "text": [
      "[[557 152]\n",
      " [ 28  97]] \n",
      "               precision    recall  f1-score   support\n",
      "\n",
      "       False       0.95      0.79      0.86       709\n",
      "        True       0.39      0.78      0.52       125\n",
      "\n",
      "    accuracy                           0.78       834\n",
      "   macro avg       0.67      0.78      0.69       834\n",
      "weighted avg       0.87      0.78      0.81       834\n",
      "\n"
     ]
    },
    {
     "data": {
      "text/plain": [
       "0.7905238879377092"
      ]
     },
     "execution_count": 187,
     "metadata": {},
     "output_type": "execute_result"
    }
   ],
   "source": [
    "log2 = LogisticRegression()\n",
    "get_metrics_smoted(log2)\n",
    "cross_val_score(log2, X_tr_sm, y_tr_sm, cv=5).mean()"
   ]
  },
  {
   "cell_type": "code",
   "execution_count": 188,
   "metadata": {},
   "outputs": [
    {
     "data": {
      "text/plain": [
       "array([[ 0.0907111 ,  0.14918545,  0.37633403,  0.02832051,  0.38485303,\n",
       "         0.21320989,  0.02956331,  0.17232597,  0.09150291, -0.01154218,\n",
       "         0.05790528,  0.08270365, -0.26559763,  0.19229876,  0.93016493,\n",
       "        -0.34207872, -0.10569051, -0.26073038, -0.00338121, -0.17484781,\n",
       "        -0.11327185, -0.15760381, -0.14993327, -0.10502922, -0.10753257,\n",
       "        -0.30435305, -0.34194717, -0.18976325, -0.32579588, -0.10261089,\n",
       "        -0.12792588, -0.11285494, -0.2240096 , -0.07531357, -0.13193443,\n",
       "        -0.06432111, -0.11972284, -0.11603112, -0.17553953,  0.02893337,\n",
       "         0.06349107, -0.06564975, -0.32434916, -0.09589287, -0.15235346,\n",
       "        -0.04410733, -0.1551582 , -0.06519476, -0.08497626, -0.05154529,\n",
       "        -0.1001378 , -0.10894069, -0.08217477, -0.25403555,  0.01839349,\n",
       "        -0.15794845, -0.21225145, -0.01505115, -0.13359109, -0.36800088,\n",
       "        -0.31457735, -0.08516023, -0.16404396, -0.14988084, -0.22858396,\n",
       "         0.87621208, -0.6557467 ]])"
      ]
     },
     "execution_count": 188,
     "metadata": {},
     "output_type": "execute_result"
    }
   ],
   "source": [
    "log2.coef_"
   ]
  },
  {
   "cell_type": "code",
   "execution_count": 189,
   "metadata": {},
   "outputs": [
    {
     "data": {
      "text/plain": [
       "[('voice mail plan_yes', -0.5730842683785637),\n",
       " ('total intl calls', -0.22961469005355573),\n",
       " ('state_ND', -0.16473568335655644),\n",
       " ('state_VT', -0.14143289011214685),\n",
       " ('state_IA', -0.10904592391792269),\n",
       " ('state_IL', -0.07828570076407303),\n",
       " ('state_AL', -0.07802766681754467),\n",
       " ('state_VA', -0.06266473296042176),\n",
       " ('state_HI', -0.05026542906483044),\n",
       " ('state_AZ', -0.04379472711742875),\n",
       " ('state_RI', -0.031304693903095586),\n",
       " ('total night calls', -0.005950679236936779),\n",
       " ('state_CO', -0.004485061770315777),\n",
       " ('state_LA', 0.0014333874652364637),\n",
       " ('state_TN', 0.0015021579528435379),\n",
       " ('state_WI', 0.003809824905052089),\n",
       " ('state_SD', 0.008070007369558478),\n",
       " ('state_WY', 0.010918373083625608),\n",
       " ('total day calls', 0.013942660724815559),\n",
       " ('state_MO', 0.01599381339596603),\n",
       " ('state_DE', 0.023020432911934847),\n",
       " ('state_OK', 0.02531391079800895),\n",
       " ('total eve calls', 0.0271732930308543),\n",
       " ('state_NM', 0.029632886527504787),\n",
       " ('state_FL', 0.029805727924452616),\n",
       " ('account length', 0.030632289980438047),\n",
       " ('state_ID', 0.03948858688575487),\n",
       " ('state_UT', 0.04205043639660515),\n",
       " ('state_DC', 0.044047505332049756),\n",
       " ('state_WV', 0.0489095999563114),\n",
       " ('state_OH', 0.05357428949338693),\n",
       " ('state_NE', 0.05546097282408878),\n",
       " ('state_CT', 0.0605857554937396),\n",
       " ('state_NH', 0.06424387851277212),\n",
       " ('state_IN', 0.0660988695471205),\n",
       " ('total night charge', 0.07340957646926191),\n",
       " ('state_NC', 0.07383029972402619),\n",
       " ('total night minutes', 0.07693790229870164),\n",
       " ('state_GA', 0.08147551290698649),\n",
       " ('state_MA', 0.08390551502400918),\n",
       " ('state_KY', 0.08409047492623205),\n",
       " ('state_CA', 0.09631004985296643),\n",
       " ('state_KS', 0.10153420265159123),\n",
       " ('state_AR', 0.10199650298068015),\n",
       " ('state_OR', 0.10562683751982603),\n",
       " ('state_NY', 0.10670748444205515),\n",
       " ('state_PA', 0.11758199004858969),\n",
       " ('total intl minutes', 0.11784190622959972),\n",
       " ('state_MD', 0.11846488918720671),\n",
       " ('state_MI', 0.12485635965534607),\n",
       " ('state_MS', 0.1252503097490946),\n",
       " ('state_WA', 0.1271934961316352),\n",
       " ('total intl charge', 0.12928801223167458),\n",
       " ('state_MN', 0.13425786703087575),\n",
       " ('state_ME', 0.13640161719520955),\n",
       " ('state_NV', 0.13858890130960394),\n",
       " ('state_SC', 0.14685501898485037),\n",
       " ('state_NJ', 0.1546709675839291),\n",
       " ('number vmail messages', 0.1651851802887127),\n",
       " ('total eve charge', 0.17842414521514224),\n",
       " ('total eve minutes', 0.18202009127335533),\n",
       " ('state_TX', 0.18324683187833266),\n",
       " ('state_MT', 0.20225591435835158),\n",
       " ('total day minutes', 0.31794785656340907),\n",
       " ('total day charge', 0.31906461748645576),\n",
       " ('international plan_yes', 0.6647434887309827),\n",
       " ('customer service calls', 0.6959932695901712)]"
      ]
     },
     "execution_count": 189,
     "metadata": {},
     "output_type": "execute_result"
    }
   ],
   "source": [
    "lg2_summary = list(zip(X_tr_sm.columns, lg2.coef_[0]))\n",
    "lg2_summary = sorted(lg2_summary,key=itemgetter(1))\n",
    "lg2_summary"
   ]
  },
  {
   "cell_type": "markdown",
   "metadata": {},
   "source": [
    "### ---\n",
    "\n",
    "## log3\n",
    "- w/ SMOTE'd data\n",
    "- param tuned with gridsearch"
   ]
  },
  {
   "cell_type": "code",
   "execution_count": 184,
   "metadata": {},
   "outputs": [
    {
     "name": "stdout",
     "output_type": "stream",
     "text": [
      "{'C': 0.07847599703514611, 'penalty': 'l1', 'solver': 'liblinear'} \n",
      " 0.7947262238410452\n"
     ]
    }
   ],
   "source": [
    "log3 = LogisticRegression()\n",
    "\n",
    "log3_param_grid = {\n",
    "    'C': np.logspace(-3, 3, 20),\n",
    "    'penalty': ['l1'],\n",
    "    'solver': ['liblinear']\n",
    "}\n",
    "\n",
    "log3_gridsearch = GridSearchCV(estimator=log3, param_grid=log3_param_grid, cv=5)\n",
    "\n",
    "log3_gridsearch.fit(X_tr_sm, y_tr_sm)\n",
    "\n",
    "print(log3_gridsearch.best_params_, '\\n', log3_gridsearch.best_score_)"
   ]
  },
  {
   "cell_type": "code",
   "execution_count": 190,
   "metadata": {},
   "outputs": [
    {
     "name": "stdout",
     "output_type": "stream",
     "text": [
      "[[554 155]\n",
      " [ 29  96]] \n",
      "               precision    recall  f1-score   support\n",
      "\n",
      "       False       0.95      0.78      0.86       709\n",
      "        True       0.38      0.77      0.51       125\n",
      "\n",
      "    accuracy                           0.78       834\n",
      "   macro avg       0.67      0.77      0.68       834\n",
      "weighted avg       0.87      0.78      0.81       834\n",
      "\n"
     ]
    }
   ],
   "source": [
    "log3_grd = LogisticRegression(C= 0.07847599703514611, penalty= 'l1', solver= 'liblinear')\n",
    "get_metrics_smoted(log3_grd)"
   ]
  },
  {
   "cell_type": "code",
   "execution_count": null,
   "metadata": {},
   "outputs": [],
   "source": []
  }
 ],
 "metadata": {
  "kernelspec": {
   "display_name": "Python 3",
   "language": "python",
   "name": "python3"
  },
  "language_info": {
   "codemirror_mode": {
    "name": "ipython",
    "version": 3
   },
   "file_extension": ".py",
   "mimetype": "text/x-python",
   "name": "python",
   "nbconvert_exporter": "python",
   "pygments_lexer": "ipython3",
   "version": "3.8.3"
  }
 },
 "nbformat": 4,
 "nbformat_minor": 4
}
