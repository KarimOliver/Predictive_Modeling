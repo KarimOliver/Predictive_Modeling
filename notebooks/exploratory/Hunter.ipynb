{
 "cells": [
  {
   "cell_type": "code",
   "execution_count": 378,
   "metadata": {},
   "outputs": [],
   "source": [
    "import pandas as pd\n",
    "import numpy as np\n",
    "\n",
    "import matplotlib.pyplot as plt\n",
    "import seaborn as sns\n",
    "\n",
    "from imblearn.pipeline import make_pipeline, Pipeline\n",
    "from sklearn.model_selection import train_test_split, GridSearchCV, cross_val_score\n",
    "from imblearn.over_sampling import SMOTE\n",
    "from sklearn.dummy import DummyClassifier\n",
    "from sklearn.metrics import confusion_matrix, f1_score, classification_report, plot_confusion_matrix\n",
    "from sklearn.preprocessing import OneHotEncoder, StandardScaler\n",
    "from sklearn.linear_model import LogisticRegression\n",
    "from sklearn.ensemble import RandomForestClassifier, AdaBoostClassifier\n",
    "from sklearn.neighbors import KNeighborsClassifier\n",
    "from sklearn.ensemble import StackingClassifier\n",
    "from sklearn.svm import SVC"
   ]
  },
  {
   "cell_type": "code",
   "execution_count": 317,
   "metadata": {},
   "outputs": [],
   "source": [
    "# pulled in dataframe\n",
    "df = pd.read_csv('../../src/data/syriatel_customer_churn.csv')"
   ]
  },
  {
   "cell_type": "code",
   "execution_count": 318,
   "metadata": {},
   "outputs": [],
   "source": [
    "# dropped area code and phone number. still looking into if area code should be included\n",
    "df = df.drop(['area code', 'phone number'], axis = 1)"
   ]
  },
  {
   "cell_type": "code",
   "execution_count": 319,
   "metadata": {},
   "outputs": [],
   "source": [
    "X = df.drop('churn', axis=1)\n",
    "y = df['churn']"
   ]
  },
  {
   "cell_type": "code",
   "execution_count": 320,
   "metadata": {},
   "outputs": [],
   "source": [
    "# Saving dataframes to src/data folder to be able to use in any notebook. \n",
    "# X.to_csv('../../src/data/X_dataframe.csv')\n",
    "# y.to_csv('../../src/data/y_dataframe.csv')"
   ]
  },
  {
   "cell_type": "code",
   "execution_count": 321,
   "metadata": {},
   "outputs": [],
   "source": [
    "# train-test-split\n",
    "\n",
    "X_train, X_test, y_train, y_test = train_test_split(X, y, random_state=42)"
   ]
  },
  {
   "cell_type": "code",
   "execution_count": 322,
   "metadata": {},
   "outputs": [],
   "source": [
    "# Our first model should have accuracy above 86 percent.\n",
    "dummy_model = DummyClassifier(strategy=\"most_frequent\")\n",
    "dummy_model.fit(X_train, y_train)\n",
    "y_hat_dummy = dummy_model.predict(X_test)"
   ]
  },
  {
   "cell_type": "code",
   "execution_count": 323,
   "metadata": {},
   "outputs": [
    {
     "data": {
      "text/plain": [
       "False    709\n",
       "True     125\n",
       "Name: churn, dtype: int64"
      ]
     },
     "execution_count": 323,
     "metadata": {},
     "output_type": "execute_result"
    }
   ],
   "source": [
    "y_test.value_counts()"
   ]
  },
  {
   "cell_type": "code",
   "execution_count": 324,
   "metadata": {},
   "outputs": [
    {
     "name": "stdout",
     "output_type": "stream",
     "text": [
      "0.8501199040767387\n",
      "[[709   0]\n",
      " [125   0]]\n",
      "              precision    recall  f1-score   support\n",
      "\n",
      "       False       0.85      1.00      0.92       709\n",
      "        True       0.00      0.00      0.00       125\n",
      "\n",
      "    accuracy                           0.85       834\n",
      "   macro avg       0.43      0.50      0.46       834\n",
      "weighted avg       0.72      0.85      0.78       834\n",
      "\n"
     ]
    },
    {
     "name": "stderr",
     "output_type": "stream",
     "text": [
      "/opt/anaconda3/lib/python3.8/site-packages/sklearn/metrics/_classification.py:1221: UndefinedMetricWarning: Precision and F-score are ill-defined and being set to 0.0 in labels with no predicted samples. Use `zero_division` parameter to control this behavior.\n",
      "  _warn_prf(average, modifier, msg_start, len(result))\n"
     ]
    }
   ],
   "source": [
    "print(dummy_model.score(X_test, y_test))\n",
    "print(confusion_matrix(y_test, y_hat_dummy))\n",
    "print(classification_report(y_test, y_hat_dummy))"
   ]
  },
  {
   "cell_type": "code",
   "execution_count": 325,
   "metadata": {},
   "outputs": [],
   "source": [
    "def One_hot(X):\n",
    "    '''\n",
    "    Returns data frame of X_train and X_test of catagorical columns one \n",
    "    hot encoded merged with continous columns. \n",
    "    Catagorical anything that is an object and continous is not object\n",
    "    '''\n",
    "    X_num = X.select_dtypes(exclude='object') # numerical cols\n",
    "    X_cat = X.select_dtypes(include='object') # categorical cols\n",
    "    \n",
    "    ohe = OneHotEncoder(drop='first', sparse=False)\n",
    "    ohe.fit(X_cat)\n",
    "\n",
    "    X_catagory = pd.DataFrame(ohe.transform(X_cat),\n",
    "                                      columns=ohe.get_feature_names(X_cat.columns),\n",
    "                                        index=X.index)\n",
    "    X_ohe = X_num.merge(X_catagory,\n",
    "                           left_index=True,\n",
    "                          right_index=True)\n",
    "    \n",
    "\n",
    "\n",
    "    return X_ohe, X_catagory"
   ]
  },
  {
   "cell_type": "code",
   "execution_count": 326,
   "metadata": {},
   "outputs": [],
   "source": [
    "X_train_ohe, X_train_catagory = One_hot(X_train)"
   ]
  },
  {
   "cell_type": "code",
   "execution_count": 327,
   "metadata": {},
   "outputs": [],
   "source": [
    "from sklearn.preprocessing import StandardScaler\n",
    "ss = StandardScaler()\n",
    "X_train_ss = pd.DataFrame(ss.fit_transform(X_train_ohe), index= X_train_ohe.index, columns= X_train_ohe.columns)"
   ]
  },
  {
   "cell_type": "code",
   "execution_count": 328,
   "metadata": {},
   "outputs": [],
   "source": [
    "# for reproducibility purposes\n",
    "sm = SMOTE(random_state=42)\n",
    "\n",
    "\n",
    "# SMOTE number of neighbors\n",
    "\n",
    "\n",
    "X_resample, y_resample = sm.fit_resample(X_train_ss, y_train)"
   ]
  },
  {
   "cell_type": "code",
   "execution_count": 329,
   "metadata": {},
   "outputs": [
    {
     "data": {
      "text/plain": [
       "True     2141\n",
       "False    2141\n",
       "Name: churn, dtype: int64"
      ]
     },
     "execution_count": 329,
     "metadata": {},
     "output_type": "execute_result"
    }
   ],
   "source": [
    "y_resample.value_counts()"
   ]
  },
  {
   "cell_type": "code",
   "execution_count": 330,
   "metadata": {},
   "outputs": [],
   "source": [
    "X_test_ohe, X_test_catagory = One_hot(X_test)"
   ]
  },
  {
   "cell_type": "code",
   "execution_count": 331,
   "metadata": {},
   "outputs": [],
   "source": [
    "ss = StandardScaler()\n",
    "ss.fit(X_train_ohe)\n",
    "X_test_ss = pd.DataFrame(ss.transform(X_test_ohe), index= X_test_ohe.index, columns= X_test_ohe.columns)"
   ]
  },
  {
   "cell_type": "markdown",
   "metadata": {},
   "source": [
    "# Log first model"
   ]
  },
  {
   "cell_type": "code",
   "execution_count": 236,
   "metadata": {},
   "outputs": [
    {
     "name": "stdout",
     "output_type": "stream",
     "text": [
      "0.7841726618705036\n",
      "[[557 152]\n",
      " [ 28  97]]\n",
      "              precision    recall  f1-score   support\n",
      "\n",
      "       False       0.95      0.79      0.86       709\n",
      "        True       0.39      0.78      0.52       125\n",
      "\n",
      "    accuracy                           0.78       834\n",
      "   macro avg       0.67      0.78      0.69       834\n",
      "weighted avg       0.87      0.78      0.81       834\n",
      "\n"
     ]
    }
   ],
   "source": [
    "log1 = LogisticRegression(random_state=42)\n",
    "\n",
    "log1.fit(X_resample, y_resample)\n",
    "y_hat_log1 = log1.predict(X_test_ss)\n",
    "\n",
    "\n",
    "print(log1.score(X_test_ss, y_test))\n",
    "print(confusion_matrix(y_test, y_hat_log1))\n",
    "print(classification_report(y_test, y_hat_log1))"
   ]
  },
  {
   "cell_type": "code",
   "execution_count": 237,
   "metadata": {},
   "outputs": [],
   "source": [
    "grid_log = {\n",
    "    'C': np.logspace(-3, 3, 20),\n",
    "}\n",
    "\n",
    "gs_log = GridSearchCV(estimator=LogisticRegression(), param_grid=grid_log, cv=3)"
   ]
  },
  {
   "cell_type": "code",
   "execution_count": 238,
   "metadata": {},
   "outputs": [
    {
     "data": {
      "text/plain": [
       "GridSearchCV(cv=3, estimator=LogisticRegression(),\n",
       "             param_grid={'C': array([1.00000000e-03, 2.06913808e-03, 4.28133240e-03, 8.85866790e-03,\n",
       "       1.83298071e-02, 3.79269019e-02, 7.84759970e-02, 1.62377674e-01,\n",
       "       3.35981829e-01, 6.95192796e-01, 1.43844989e+00, 2.97635144e+00,\n",
       "       6.15848211e+00, 1.27427499e+01, 2.63665090e+01, 5.45559478e+01,\n",
       "       1.12883789e+02, 2.33572147e+02, 4.83293024e+02, 1.00000000e+03])})"
      ]
     },
     "execution_count": 238,
     "metadata": {},
     "output_type": "execute_result"
    }
   ],
   "source": [
    "gs_log.fit(X_resample, y_resample)"
   ]
  },
  {
   "cell_type": "code",
   "execution_count": 239,
   "metadata": {},
   "outputs": [
    {
     "data": {
      "text/plain": [
       "{'C': 233.57214690901213}"
      ]
     },
     "execution_count": 239,
     "metadata": {},
     "output_type": "execute_result"
    }
   ],
   "source": [
    "gs_log.best_params_"
   ]
  },
  {
   "cell_type": "code",
   "execution_count": 240,
   "metadata": {},
   "outputs": [
    {
     "data": {
      "text/plain": [
       "0.7919217675390642"
      ]
     },
     "execution_count": 240,
     "metadata": {},
     "output_type": "execute_result"
    }
   ],
   "source": [
    "gs_log.best_score_"
   ]
  },
  {
   "cell_type": "code",
   "execution_count": 241,
   "metadata": {},
   "outputs": [
    {
     "name": "stdout",
     "output_type": "stream",
     "text": [
      "0.7841726618705036\n",
      "[[556 153]\n",
      " [ 28  97]]\n",
      "              precision    recall  f1-score   support\n",
      "\n",
      "       False       0.95      0.78      0.86       709\n",
      "        True       0.39      0.78      0.52       125\n",
      "\n",
      "    accuracy                           0.78       834\n",
      "   macro avg       0.67      0.78      0.69       834\n",
      "weighted avg       0.87      0.78      0.81       834\n",
      "\n"
     ]
    }
   ],
   "source": [
    "log2 = LogisticRegression(C = 233.57214690901213, random_state=42)\n",
    "log2.fit(X_resample, y_resample)\n",
    "y_hat_log2 = log2.predict(X_test_ss)\n",
    "\n",
    "print(log1.score(X_test_ss, y_test))\n",
    "print(confusion_matrix(y_test, y_hat_log2))\n",
    "print(classification_report(y_test, y_hat_log2))"
   ]
  },
  {
   "cell_type": "markdown",
   "metadata": {},
   "source": [
    "Did about the same when setting a C value. "
   ]
  },
  {
   "cell_type": "markdown",
   "metadata": {},
   "source": [
    "# Random Forest 1st model"
   ]
  },
  {
   "cell_type": "code",
   "execution_count": 145,
   "metadata": {},
   "outputs": [
    {
     "name": "stdout",
     "output_type": "stream",
     "text": [
      "0.9244604316546763\n",
      "[[678  31]\n",
      " [ 32  93]]\n",
      "              precision    recall  f1-score   support\n",
      "\n",
      "       False       0.95      0.96      0.96       709\n",
      "        True       0.75      0.74      0.75       125\n",
      "\n",
      "    accuracy                           0.92       834\n",
      "   macro avg       0.85      0.85      0.85       834\n",
      "weighted avg       0.92      0.92      0.92       834\n",
      "\n"
     ]
    }
   ],
   "source": [
    "forest = RandomForestClassifier(random_state=42)\n",
    "forest.fit(X_resample, y_resample)\n",
    "y_hat_forest = forest.predict(X_test_ss)\n",
    "\n",
    "print(forest.score(X_test_ss, y_test))\n",
    "print(confusion_matrix(y_test, y_hat_forest))\n",
    "print(classification_report(y_test, y_hat_forest))"
   ]
  },
  {
   "cell_type": "markdown",
   "metadata": {},
   "source": [
    "# Grid with Random forest"
   ]
  },
  {
   "cell_type": "code",
   "execution_count": 242,
   "metadata": {},
   "outputs": [],
   "source": [
    "grid_forest = {\n",
    "    'max_features': ['sqrt', 'log2', 0.5],\n",
    "    'criterion': ['gini', 'entropy'],\n",
    "    'n_estimators' : [50, 100, 200]\n",
    "}"
   ]
  },
  {
   "cell_type": "code",
   "execution_count": 243,
   "metadata": {},
   "outputs": [],
   "source": [
    "gs_for = GridSearchCV(estimator=RandomForestClassifier(), param_grid=grid_forest, cv=3)"
   ]
  },
  {
   "cell_type": "code",
   "execution_count": null,
   "metadata": {},
   "outputs": [],
   "source": [
    "gs_for.fit(X_resample, y_resample)"
   ]
  },
  {
   "cell_type": "code",
   "execution_count": null,
   "metadata": {},
   "outputs": [],
   "source": [
    "gs_for.best_params_"
   ]
  },
  {
   "cell_type": "code",
   "execution_count": null,
   "metadata": {},
   "outputs": [],
   "source": [
    "gs_for.best_score_"
   ]
  },
  {
   "cell_type": "code",
   "execution_count": null,
   "metadata": {},
   "outputs": [],
   "source": [
    "cross_val_score()"
   ]
  },
  {
   "cell_type": "code",
   "execution_count": 382,
   "metadata": {},
   "outputs": [
    {
     "name": "stdout",
     "output_type": "stream",
     "text": [
      "[0.93137255 0.93062369 0.95865452]\n",
      "0.947242206235012\n",
      "[[689  20]\n",
      " [ 24 101]]\n",
      "              precision    recall  f1-score   support\n",
      "\n",
      "       False       0.97      0.97      0.97       709\n",
      "        True       0.83      0.81      0.82       125\n",
      "\n",
      "    accuracy                           0.95       834\n",
      "   macro avg       0.90      0.89      0.90       834\n",
      "weighted avg       0.95      0.95      0.95       834\n",
      "\n"
     ]
    }
   ],
   "source": [
    "forest2 = RandomForestClassifier(max_features=.5, random_state=42)\n",
    "forest2.fit(X_resample, y_resample)\n",
    "y_hat_forest2 = forest2.predict(X_test_ss)\n",
    "\n",
    "print(cross_val_score(estimator=RandomForestClassifier(max_features=.5, random_state=42), X= X_resample, y = y_resample, cv = 3).mean())\n",
    "print(forest2.score(X_test_ss, y_test))\n",
    "print(confusion_matrix(y_test, y_hat_forest2))\n",
    "print(classification_report(y_test, y_hat_forest2))"
   ]
  },
  {
   "cell_type": "markdown",
   "metadata": {},
   "source": [
    "# KNN with Grid"
   ]
  },
  {
   "cell_type": "code",
   "execution_count": 152,
   "metadata": {},
   "outputs": [],
   "source": [
    "grid_knn = {\n",
    "    'n_neighbors': list(range(3,31,2)),\n",
    "    'p' : [1,2]\n",
    "}"
   ]
  },
  {
   "cell_type": "code",
   "execution_count": 156,
   "metadata": {},
   "outputs": [],
   "source": [
    "gs_knn = GridSearchCV(estimator=KNeighborsClassifier(), param_grid=grid_knn, cv=5)"
   ]
  },
  {
   "cell_type": "code",
   "execution_count": 157,
   "metadata": {},
   "outputs": [
    {
     "data": {
      "text/plain": [
       "GridSearchCV(cv=5, estimator=KNeighborsClassifier(),\n",
       "             param_grid={'n_neighbors': [3, 5, 7, 9, 11, 13, 15, 17, 19, 21, 23,\n",
       "                                         25, 27, 29],\n",
       "                         'p': [1, 2]})"
      ]
     },
     "execution_count": 157,
     "metadata": {},
     "output_type": "execute_result"
    }
   ],
   "source": [
    "gs_knn.fit(X_resample, y_resample)"
   ]
  },
  {
   "cell_type": "code",
   "execution_count": 159,
   "metadata": {},
   "outputs": [
    {
     "data": {
      "text/plain": [
       "{'n_neighbors': 3, 'p': 1}"
      ]
     },
     "execution_count": 159,
     "metadata": {},
     "output_type": "execute_result"
    }
   ],
   "source": [
    "gs_knn.best_params_"
   ]
  },
  {
   "cell_type": "code",
   "execution_count": 198,
   "metadata": {},
   "outputs": [
    {
     "name": "stdout",
     "output_type": "stream",
     "text": [
      "0.947242206235012\n",
      "[[554 155]\n",
      " [ 67  58]]\n",
      "              precision    recall  f1-score   support\n",
      "\n",
      "       False       0.89      0.78      0.83       709\n",
      "        True       0.27      0.46      0.34       125\n",
      "\n",
      "    accuracy                           0.73       834\n",
      "   macro avg       0.58      0.62      0.59       834\n",
      "weighted avg       0.80      0.73      0.76       834\n",
      "\n"
     ]
    }
   ],
   "source": [
    "knn = KNeighborsClassifier(n_neighbors=3, p=1)\n",
    "knn.fit(X_resample, y_resample)\n",
    "y_hat_knn = knn.predict(X_test_ss)\n",
    "\n",
    "print(forest2.score(X_test_ss, y_test))\n",
    "print(confusion_matrix(y_test, y_hat_knn))\n",
    "print(classification_report(y_test, y_hat_knn))"
   ]
  },
  {
   "cell_type": "markdown",
   "metadata": {},
   "source": [
    "### Worse than just forest by itself"
   ]
  },
  {
   "cell_type": "markdown",
   "metadata": {},
   "source": [
    "# SVM model"
   ]
  },
  {
   "cell_type": "code",
   "execution_count": 190,
   "metadata": {},
   "outputs": [
    {
     "data": {
      "text/plain": [
       "0.8237410071942446"
      ]
     },
     "execution_count": 190,
     "metadata": {},
     "output_type": "execute_result"
    }
   ],
   "source": [
    "svm = SVC(random_state=42)\n",
    "svm.fit(X_resample, y_resample)\n",
    "svm.score(X_test_ss, y_test)"
   ]
  },
  {
   "cell_type": "code",
   "execution_count": 189,
   "metadata": {},
   "outputs": [
    {
     "name": "stdout",
     "output_type": "stream",
     "text": [
      "0.8237410071942446\n",
      "[[686  23]\n",
      " [ 60  65]]\n",
      "              precision    recall  f1-score   support\n",
      "\n",
      "       False       0.92      0.97      0.94       709\n",
      "        True       0.74      0.52      0.61       125\n",
      "\n",
      "    accuracy                           0.90       834\n",
      "   macro avg       0.83      0.74      0.78       834\n",
      "weighted avg       0.89      0.90      0.89       834\n",
      "\n"
     ]
    }
   ],
   "source": [
    "y_hat_svm = sr.predict(X_test_ss)\n",
    "\n",
    "print(svm.score(X_test_ss, y_test))\n",
    "print(confusion_matrix(y_test, y_hat_svm))\n",
    "print(classification_report(y_test, y_hat_svm))"
   ]
  },
  {
   "cell_type": "markdown",
   "metadata": {},
   "source": [
    "# Adaboost model"
   ]
  },
  {
   "cell_type": "code",
   "execution_count": 197,
   "metadata": {},
   "outputs": [
    {
     "name": "stdout",
     "output_type": "stream",
     "text": [
      "0.8669064748201439\n",
      "[[686  23]\n",
      " [ 65  60]]\n",
      "              precision    recall  f1-score   support\n",
      "\n",
      "       False       0.91      0.97      0.94       709\n",
      "        True       0.72      0.48      0.58       125\n",
      "\n",
      "    accuracy                           0.89       834\n",
      "   macro avg       0.82      0.72      0.76       834\n",
      "weighted avg       0.88      0.89      0.89       834\n",
      "\n"
     ]
    }
   ],
   "source": [
    "abc = AdaBoostClassifier(random_state=42)\n",
    "\n",
    "abc.fit(X_resample, y_resample)\n",
    "\n",
    "y_hat_abc = sr.predict(X_test_ss)\n",
    "\n",
    "print(abc.score(X_test_ss, y_test))\n",
    "print(confusion_matrix(y_test, y_hat_abc))\n",
    "print(classification_report(y_test, y_hat_abc))"
   ]
  },
  {
   "cell_type": "markdown",
   "metadata": {},
   "source": [
    "# Stacking"
   ]
  },
  {
   "cell_type": "code",
   "execution_count": 191,
   "metadata": {},
   "outputs": [],
   "source": [
    "estimators = [\n",
    "    ('svm', svm),\n",
    "    ('knn', knn),\n",
    "    ('forest', forest2)\n",
    "]\n",
    "\n",
    "sr = StackingClassifier(estimators)"
   ]
  },
  {
   "cell_type": "code",
   "execution_count": 192,
   "metadata": {},
   "outputs": [
    {
     "data": {
      "text/plain": [
       "StackingClassifier(estimators=[('svm', SVC(random_state=42)),\n",
       "                               ('knn',\n",
       "                                KNeighborsClassifier(n_neighbors=3, p=1)),\n",
       "                               ('forest',\n",
       "                                RandomForestClassifier(max_features=0.5,\n",
       "                                                       random_state=42))])"
      ]
     },
     "execution_count": 192,
     "metadata": {},
     "output_type": "execute_result"
    }
   ],
   "source": [
    "sr.fit(X_resample, y_resample)"
   ]
  },
  {
   "cell_type": "code",
   "execution_count": 193,
   "metadata": {},
   "outputs": [
    {
     "name": "stdout",
     "output_type": "stream",
     "text": [
      "0.894484412470024\n",
      "[[686  23]\n",
      " [ 65  60]]\n",
      "              precision    recall  f1-score   support\n",
      "\n",
      "       False       0.91      0.97      0.94       709\n",
      "        True       0.72      0.48      0.58       125\n",
      "\n",
      "    accuracy                           0.89       834\n",
      "   macro avg       0.82      0.72      0.76       834\n",
      "weighted avg       0.88      0.89      0.89       834\n",
      "\n"
     ]
    }
   ],
   "source": [
    "y_hat_sr = sr.predict(X_test_ss)\n",
    "\n",
    "print(sr.score(X_test_ss, y_test))\n",
    "print(confusion_matrix(y_test, y_hat_sr))\n",
    "print(classification_report(y_test, y_hat_sr))"
   ]
  },
  {
   "cell_type": "code",
   "execution_count": 366,
   "metadata": {},
   "outputs": [
    {
     "data": {
      "text/plain": [
       "''"
      ]
     },
     "execution_count": 366,
     "metadata": {},
     "output_type": "execute_result"
    },
    {
     "data": {
      "image/png": "[encoded data removed]",
      "text/plain": [
       "<Figure size 1080x432 with 12 Axes>"
      ]
     },
     "metadata": {
      "needs_background": "light"
     },
     "output_type": "display_data"
    }
   ],
   "source": [
    "fig, axes = plt.subplots(nrows=2, ncols=3, figsize=(15, 6))\n",
    "fig.tight_layout(pad=4.0)\n",
    "\n",
    "axes[0, 0].set_title(\"Logistic\")\n",
    "axes[0, 1].set_title(\"Logistic hyper\")\n",
    "axes[0, 2].set_title(\"Forest\")\n",
    "axes[1, 0].set_title(\"Forest hyper\")\n",
    "axes[1, 1].set_title(\"KNN\")\n",
    "axes[1, 2].set_title(\"Stack\")\n",
    "\n",
    "plot_confusion_matrix(log1, X_test_ss, y_test, ax=axes[0, 0], cmap=\"Blues\")\n",
    "plot_confusion_matrix(log2, X_test_ss, y_test, ax=axes[0, 1], cmap=\"Blues\")\n",
    "plot_confusion_matrix(forest, X_test_ss, y_test, ax=axes[0, 2], cmap=\"Blues\")\n",
    "plot_confusion_matrix(forest2, X_test_ss, y_test, ax=axes[1, 0], cmap=\"Blues\")\n",
    "plot_confusion_matrix(knn, X_test_ss, y_test, ax=axes[1, 1], cmap=\"Blues\")\n",
    "plot_confusion_matrix(sr, X_test_ss, y_test, ax=axes[1, 2], cmap=\"Blues\")\n",
    ";"
   ]
  },
  {
   "cell_type": "code",
   "execution_count": 246,
   "metadata": {},
   "outputs": [],
   "source": [
    "def plot_feature_importances(model):\n",
    "    n_features = X_resample.shape[1]\n",
    "    plt.figure(figsize=(8,15))\n",
    "    plt.barh(range(n_features), model.feature_importances_, align='center') \n",
    "    plt.yticks(np.arange(n_features), X_resample.columns.values) \n",
    "    plt.xlabel('Feature importance')\n",
    "    plt.ylabel('Feature')"
   ]
  },
  {
   "cell_type": "code",
   "execution_count": 247,
   "metadata": {},
   "outputs": [
    {
     "data": {
      "image/png": "[encoded data removed]",
      "text/plain": [
       "<Figure size 576x1080 with 1 Axes>"
      ]
     },
     "metadata": {
      "needs_background": "light"
     },
     "output_type": "display_data"
    }
   ],
   "source": [
    "plot_feature_importances(forest2)"
   ]
  },
  {
   "cell_type": "markdown",
   "metadata": {},
   "source": [
    "Looks like customer service calls, international plan, voice mail plan, total days charge, total day minutes are the biggest influence on this model. "
   ]
  },
  {
   "cell_type": "markdown",
   "metadata": {},
   "source": [
    "# International Plan Churn Rate"
   ]
  },
  {
   "cell_type": "code",
   "execution_count": 365,
   "metadata": {},
   "outputs": [
    {
     "data": {
      "image/png": "[encoded data removed]",
      "text/plain": [
       "<Figure size 1008x720 with 1 Axes>"
      ]
     },
     "metadata": {
      "needs_background": "light"
     },
     "output_type": "display_data"
    }
   ],
   "source": [
    "churn_rate_int_plan = df.groupby(['international plan'])['churn'].mean()\n",
    "\n",
    "fig, ax = plt.subplots(figsize =(14,10))\n",
    "sns.barplot(x = churn_rate_int.index, y = churn_rate_int.values, ax = ax, palette = \"Blues_d\")\n",
    "\n",
    "plt.title('Churn Rate For International Plan Holders', fontsize = 20)\n",
    "plt.xlabel('')\n",
    "plt.ylabel('Churn Rate', fontsize = 20)\n",
    "\n",
    "ax.tick_params(labelsize = 20)\n",
    "ax.set_xticklabels(['No International Plan', 'Has International Plan'])\n",
    "plt.tight_layout()\n"
   ]
  },
  {
   "cell_type": "markdown",
   "metadata": {},
   "source": [
    "# Customer Service calls Churn rate"
   ]
  },
  {
   "cell_type": "code",
   "execution_count": 308,
   "metadata": {},
   "outputs": [
    {
     "data": {
      "image/png": "[encoded data removed]",
      "text/plain": [
       "<Figure size 1008x720 with 1 Axes>"
      ]
     },
     "metadata": {
      "needs_background": "light"
     },
     "output_type": "display_data"
    }
   ],
   "source": [
    "churn_rate_cust_service = df.groupby(['customer service calls'])['churn'].mean()\n",
    "\n",
    "fig, ax = plt.subplots(figsize =(14,10))\n",
    "sns.barplot(x = churn_rate_cust_service.index, y = churn_rate_cust_service.values, ax = ax, palette = \"Blues_d\")\n",
    "\n",
    "plt.title('Churn Rate Per Number of Customer Service Calls', fontsize = 30)\n",
    "plt.xlabel('Number of Customer Service Calls', fontsize = 25)\n",
    "plt.ylabel('Churn Rate', fontsize = 25)\n",
    "\n",
    "ax.tick_params(labelsize = 20)\n",
    "plt.tight_layout()"
   ]
  },
  {
   "cell_type": "code",
   "execution_count": null,
   "metadata": {},
   "outputs": [],
   "source": [
    "df.head(2)"
   ]
  },
  {
   "cell_type": "code",
   "execution_count": 392,
   "metadata": {},
   "outputs": [],
   "source": [
    "df['new'] = df['total day charge'] / df['total day minutes']"
   ]
  },
  {
   "cell_type": "code",
   "execution_count": 393,
   "metadata": {},
   "outputs": [
    {
     "data": {
      "text/plain": [
       "count    3331.000000\n",
       "mean        0.170003\n",
       "std         0.000028\n",
       "min         0.169231\n",
       "25%         0.169989\n",
       "50%         0.170004\n",
       "75%         0.170017\n",
       "max         0.170513\n",
       "Name: new, dtype: float64"
      ]
     },
     "execution_count": 393,
     "metadata": {},
     "output_type": "execute_result"
    }
   ],
   "source": [
    "df['new'].describe()"
   ]
  },
  {
   "cell_type": "code",
   "execution_count": 332,
   "metadata": {},
   "outputs": [],
   "source": [
    "# Total day charge"
   ]
  },
  {
   "cell_type": "code",
   "execution_count": 342,
   "metadata": {},
   "outputs": [],
   "source": [
    "df2_day_charge = df[['total day charge','churn']].copy()"
   ]
  },
  {
   "cell_type": "code",
   "execution_count": 357,
   "metadata": {},
   "outputs": [],
   "source": [
    "\n",
    "df2_day_charge['bins'] = pd.cut(df2_day_charge['total day charge'],\n",
    "                              bins=list(range(0,70,10)),\n",
    "                              labels=list(range(1,7)))"
   ]
  },
  {
   "cell_type": "code",
   "execution_count": 360,
   "metadata": {},
   "outputs": [],
   "source": [
    "day_charge = df2_day_charge.groupby(['bins'])['churn'].mean()"
   ]
  },
  {
   "cell_type": "code",
   "execution_count": 364,
   "metadata": {},
   "outputs": [
    {
     "data": {
      "image/png": "[encoded data removed]",
      "text/plain": [
       "<Figure size 1008x720 with 1 Axes>"
      ]
     },
     "metadata": {
      "needs_background": "light"
     },
     "output_type": "display_data"
    }
   ],
   "source": [
    "fig, ax = plt.subplots(figsize =(14,10))\n",
    "sns.barplot(x = day_charge.index, y = day_charge.values, ax = ax, palette = \"Blues_d\")\n",
    "\n",
    "plt.title('Churn Rate by Cost of Total Day Charge', fontsize = 30)\n",
    "plt.xlabel('Cost of Total Day Charge Binned', fontsize = 25)\n",
    "plt.ylabel('Churn Rate', fontsize = 25)\n",
    "ax.set_xticklabels(['0-9', '10-19', '20-29','30-39', '40-49', '50-59'])\n",
    "\n",
    "ax.tick_params(labelsize = 20)\n",
    "plt.tight_layout()"
   ]
  },
  {
   "cell_type": "code",
   "execution_count": 367,
   "metadata": {},
   "outputs": [],
   "source": [
    "grid_forest2 = {\n",
    "    'max_features': ['sqrt', 'log2', 0.5, .3, None],\n",
    "    'n_estimators' : [50, 100, 200, 300]\n",
    "}\n",
    "gs_for2 = GridSearchCV(estimator=RandomForestClassifier(), param_grid=grid_forest2, cv=3)"
   ]
  },
  {
   "cell_type": "code",
   "execution_count": 368,
   "metadata": {},
   "outputs": [
    {
     "data": {
      "text/plain": [
       "GridSearchCV(cv=3, estimator=RandomForestClassifier(),\n",
       "             param_grid={'max_features': ['sqrt', 'log2', 0.5, 0.3, None],\n",
       "                         'n_estimators': [50, 100, 200, 300]})"
      ]
     },
     "execution_count": 368,
     "metadata": {},
     "output_type": "execute_result"
    }
   ],
   "source": [
    "gs_for2.fit(X_resample, y_resample)"
   ]
  },
  {
   "cell_type": "code",
   "execution_count": 369,
   "metadata": {},
   "outputs": [
    {
     "data": {
      "text/plain": [
       "{'max_features': 0.5, 'n_estimators': 300}"
      ]
     },
     "execution_count": 369,
     "metadata": {},
     "output_type": "execute_result"
    }
   ],
   "source": [
    "gs_for2.best_params_"
   ]
  },
  {
   "cell_type": "code",
   "execution_count": 375,
   "metadata": {},
   "outputs": [],
   "source": [
    "forest_final = RandomForestClassifier(n_estimators=500, max_features=.5, random_state=42)\n",
    "forest_final.fit(X_resample, y_resample)\n",
    "y_hat_forest3 = forest_final.predict(X_test_ss)\n"
   ]
  },
  {
   "cell_type": "code",
   "execution_count": 383,
   "metadata": {},
   "outputs": [
    {
     "name": "stdout",
     "output_type": "stream",
     "text": [
      "0.9451219871270161\n",
      "0.947242206235012\n",
      "[[689  20]\n",
      " [ 24 101]]\n",
      "              precision    recall  f1-score   support\n",
      "\n",
      "       False       0.97      0.97      0.97       709\n",
      "        True       0.83      0.81      0.82       125\n",
      "\n",
      "    accuracy                           0.95       834\n",
      "   macro avg       0.90      0.89      0.90       834\n",
      "weighted avg       0.95      0.95      0.95       834\n",
      "\n"
     ]
    }
   ],
   "source": [
    "print(cross_val_score(estimator=RandomForestClassifier(n_estimators=500, max_features=.5, random_state=42), X= X_resample, y = y_resample, cv = 3).mean())\n",
    "print(forest_final.score(X_test_ss, y_test))\n",
    "print(confusion_matrix(y_test, y_hat_forest3))\n",
    "print(classification_report(y_test, y_hat_forest3))"
   ]
  },
  {
   "cell_type": "code",
   "execution_count": null,
   "metadata": {},
   "outputs": [],
   "source": []
  }
 ],
 "metadata": {
  "kernelspec": {
   "display_name": "Python 3",
   "language": "python",
   "name": "python3"
  },
  "language_info": {
   "codemirror_mode": {
    "name": "ipython",
    "version": 3
   },
   "file_extension": ".py",
   "mimetype": "text/x-python",
   "name": "python",
   "nbconvert_exporter": "python",
   "pygments_lexer": "ipython3",
   "version": "3.8.3"
  }
 },
 "nbformat": 4,
 "nbformat_minor": 4
}
