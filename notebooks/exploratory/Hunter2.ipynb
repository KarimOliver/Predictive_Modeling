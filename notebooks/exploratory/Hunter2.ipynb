{
 "cells": [
  {
   "cell_type": "code",
   "execution_count": 216,
   "metadata": {},
   "outputs": [
    {
     "name": "stdout",
     "output_type": "stream",
     "text": [
      "The autoreload extension is already loaded. To reload it, use:\n",
      "  %reload_ext autoreload\n"
     ]
    }
   ],
   "source": [
    "import pandas as pd\n",
    "import numpy as np\n",
    "\n",
    "import matplotlib.pyplot as plt\n",
    "import seaborn as sns\n",
    "\n",
    "from imblearn.pipeline import make_pipeline, Pipeline\n",
    "from sklearn.model_selection import train_test_split, GridSearchCV, cross_val_score\n",
    "from imblearn.over_sampling import SMOTE\n",
    "from sklearn.dummy import DummyClassifier\n",
    "from sklearn.metrics import confusion_matrix, f1_score, classification_report, plot_confusion_matrix, make_scorer, recall_score, accuracy_score, precision_score, f1_score\n",
    "from sklearn.preprocessing import OneHotEncoder, StandardScaler\n",
    "from sklearn.linear_model import LogisticRegression\n",
    "from sklearn.ensemble import RandomForestClassifier, AdaBoostClassifier\n",
    "from sklearn.neighbors import KNeighborsClassifier\n",
    "from sklearn.ensemble import StackingClassifier\n",
    "from sklearn.svm import SVC\n",
    "from sklearn.compose import ColumnTransformer, make_column_transformer\n",
    "\n",
    "%load_ext autoreload\n",
    "%autoreload 2\n",
    "\n",
    "import os\n",
    "import sys\n",
    "module_path = os.path.abspath(os.path.join(os.pardir, os.pardir))\n",
    "if module_path not in sys.path:\n",
    "    sys.path.append(module_path)\n"
   ]
  },
  {
   "cell_type": "code",
   "execution_count": 96,
   "metadata": {},
   "outputs": [],
   "source": [
    "y = pd.read_csv('../../src/data/y_dataframe.csv', index_col= 0, squeeze= True)\n",
    "X = pd.read_csv('../../src/data/X_dataframe.csv', index_col= 0)"
   ]
  },
  {
   "cell_type": "code",
   "execution_count": 86,
   "metadata": {},
   "outputs": [],
   "source": [
    "# From previous notebook it was discovered the total minutes was directly correlated to the charge so we dropped the eve minutes and day minutes. \n",
    "# Also state didnt seem to play a huge impportance so we took it out to reduce calculation time. "
   ]
  },
  {
   "cell_type": "code",
   "execution_count": 98,
   "metadata": {},
   "outputs": [],
   "source": [
    "X.drop(columns=['total day minutes', 'total eve minutes', 'state'], axis=1, inplace= True)"
   ]
  },
  {
   "cell_type": "markdown",
   "metadata": {},
   "source": [
    "<img src='../report/figures/RandomForestClassifier(max_features=0.5, random_state=42)Feature_importance.png' width=600/>"
   ]
  },
  {
   "cell_type": "code",
   "execution_count": 202,
   "metadata": {},
   "outputs": [],
   "source": [
    "X_train, X_test, y_train, y_test = train_test_split(X,y, random_state=42, test_size = .2)\n",
    "X_t, X_val, y_t, y_val = train_test_split(X_train,y_train, random_state=42, test_size = .2)"
   ]
  },
  {
   "cell_type": "code",
   "execution_count": 203,
   "metadata": {},
   "outputs": [],
   "source": [
    "numerical_features = X_t.select_dtypes(exclude='object').columns\n",
    "categorical_features = X_t.select_dtypes(include='object').columns"
   ]
  },
  {
   "cell_type": "code",
   "execution_count": 256,
   "metadata": {},
   "outputs": [],
   "source": [
    "def model_output(model, X_t, X_val, y_t, y_val):\n",
    "    '''Can be used on final test and train validation''\n",
    "    input:   model, X_t, X_val, y_t, y_val\n",
    "    or \n",
    "    input:   model, X_train, X_test, y_train, y_test\n",
    "    '''\n",
    "    \n",
    "    model.fit(X_t, y_t)\n",
    "    y_hat = model.predict(X_val)\n",
    "    \n",
    "    print(f'''The Cross Val accuracy is: {cross_val_score(estimator = model, X = X_t,y = y_t, cv = 3, scoring = 'accuracy').mean()}''')\n",
    "    print(f'The test Accuracy is: {accuracy_score(y_val, y_hat)}')\n",
    "    print(confusion_matrix(y_val, y_hat))\n",
    "    print(classification_report(y_val, y_hat))\n",
    "\n",
    "    return"
   ]
  },
  {
   "cell_type": "markdown",
   "metadata": {},
   "source": [
    "# Pipeline"
   ]
  },
  {
   "cell_type": "code",
   "execution_count": 257,
   "metadata": {},
   "outputs": [],
   "source": [
    "preprocess = make_column_transformer(\n",
    "    (OneHotEncoder(sparse = False, drop ='first'), categorical_features), remainder = 'passthrough')"
   ]
  },
  {
   "cell_type": "code",
   "execution_count": 278,
   "metadata": {},
   "outputs": [],
   "source": [
    "pipe_forest = Pipeline([\n",
    "    ('pp', preprocess),\n",
    "    ('ss', StandardScaler()),\n",
    "    ('sm', SMOTE(random_state= 42)),\n",
    "    ('rf', RandomForestClassifier(random_state= 42, max_features= 10, min_samples_split = 2, n_estimators= 300))])"
   ]
  },
  {
   "cell_type": "markdown",
   "metadata": {},
   "source": [
    "# Random forest model"
   ]
  },
  {
   "cell_type": "code",
   "execution_count": 279,
   "metadata": {},
   "outputs": [
    {
     "name": "stdout",
     "output_type": "stream",
     "text": [
      "The Cross Val accuracy is: 0.9343646233410013\n",
      "The test Accuracy is: 0.9535232383808095\n",
      "[[552  14]\n",
      " [ 17  84]]\n",
      "              precision    recall  f1-score   support\n",
      "\n",
      "       False       0.97      0.98      0.97       566\n",
      "        True       0.86      0.83      0.84       101\n",
      "\n",
      "    accuracy                           0.95       667\n",
      "   macro avg       0.91      0.90      0.91       667\n",
      "weighted avg       0.95      0.95      0.95       667\n",
      "\n"
     ]
    }
   ],
   "source": [
    "model_output(pipe_forest, X_train, X_test, y_train, y_test)"
   ]
  },
  {
   "cell_type": "markdown",
   "metadata": {},
   "source": [
    "# Random forest with grid models"
   ]
  },
  {
   "cell_type": "code",
   "execution_count": 262,
   "metadata": {},
   "outputs": [],
   "source": [
    "grid_forest = {\n",
    "    'rf__min_samples_split': [2, 3, 5, 10], \n",
    "    'rf__n_estimators' : [100, 300],\n",
    "    'rf__max_depth': [3, 5, 15, 25],\n",
    "    'rf__max_features': ['sqrt', 5, 10, .5]\n",
    "}"
   ]
  },
  {
   "cell_type": "code",
   "execution_count": 263,
   "metadata": {},
   "outputs": [],
   "source": [
    "scorers_forest = {\n",
    "    'recall_score': make_scorer(recall_score),\n",
    "    'precision_score': make_scorer(precision_score),\n",
    "    'f1': make_scorer(f1_score)\n",
    "    }"
   ]
  },
  {
   "cell_type": "markdown",
   "metadata": {},
   "source": [
    "# Maximizing f1"
   ]
  },
  {
   "cell_type": "code",
   "execution_count": 264,
   "metadata": {},
   "outputs": [
    {
     "name": "stdout",
     "output_type": "stream",
     "text": [
      "The Cross Val accuracy is: 0.9254320107235064\n",
      "The test Accuracy is: 0.9382022471910112\n",
      "[[440  16]\n",
      " [ 17  61]]\n",
      "              precision    recall  f1-score   support\n",
      "\n",
      "       False       0.96      0.96      0.96       456\n",
      "        True       0.79      0.78      0.79        78\n",
      "\n",
      "    accuracy                           0.94       534\n",
      "   macro avg       0.88      0.87      0.88       534\n",
      "weighted avg       0.94      0.94      0.94       534\n",
      "\n"
     ]
    }
   ],
   "source": [
    "grid_search_f1 = GridSearchCV(pipe_forest, grid_forest, scoring=scorers_forest, refit='f1',\n",
    "                           cv=3, return_train_score=True, n_jobs=-1)\n",
    "\n",
    "model_output(grid_search_f1, X_t, X_val, y_t, y_val)"
   ]
  },
  {
   "cell_type": "code",
   "execution_count": 265,
   "metadata": {},
   "outputs": [
    {
     "data": {
      "text/plain": [
       "{'rf__max_depth': 25,\n",
       " 'rf__max_features': 10,\n",
       " 'rf__min_samples_split': 2,\n",
       " 'rf__n_estimators': 300}"
      ]
     },
     "execution_count": 265,
     "metadata": {},
     "output_type": "execute_result"
    }
   ],
   "source": [
    "grid_search_f1.best_params_"
   ]
  },
  {
   "cell_type": "code",
   "execution_count": 266,
   "metadata": {},
   "outputs": [
    {
     "name": "stdout",
     "output_type": "stream",
     "text": [
      "The Cross Val accuracy is: 0.8621355889674663\n",
      "The test Accuracy is: 0.9082397003745318\n",
      "[[420  36]\n",
      " [ 13  65]]\n",
      "              precision    recall  f1-score   support\n",
      "\n",
      "       False       0.97      0.92      0.94       456\n",
      "        True       0.64      0.83      0.73        78\n",
      "\n",
      "    accuracy                           0.91       534\n",
      "   macro avg       0.81      0.88      0.84       534\n",
      "weighted avg       0.92      0.91      0.91       534\n",
      "\n"
     ]
    }
   ],
   "source": [
    "grid_search_recall = GridSearchCV(pipe_forest, grid_forest, scoring=scorers_forest, refit='recall_score',\n",
    "                           cv=3, return_train_score=True, n_jobs=-1)\n",
    "\n",
    "model_output(grid_search_recall, X_t, X_val, y_t, y_val)"
   ]
  },
  {
   "cell_type": "code",
   "execution_count": 267,
   "metadata": {},
   "outputs": [
    {
     "data": {
      "text/plain": [
       "{'rf__max_depth': 5,\n",
       " 'rf__max_features': 10,\n",
       " 'rf__min_samples_split': 3,\n",
       " 'rf__n_estimators': 300}"
      ]
     },
     "execution_count": 267,
     "metadata": {},
     "output_type": "execute_result"
    }
   ],
   "source": [
    "grid_search_recall.best_params_"
   ]
  },
  {
   "cell_type": "code",
   "execution_count": 268,
   "metadata": {},
   "outputs": [
    {
     "name": "stdout",
     "output_type": "stream",
     "text": [
      "The Cross Val accuracy is: 0.9277761269916734\n",
      "The test Accuracy is: 0.9419475655430711\n",
      "[[439  17]\n",
      " [ 14  64]]\n",
      "              precision    recall  f1-score   support\n",
      "\n",
      "       False       0.97      0.96      0.97       456\n",
      "        True       0.79      0.82      0.81        78\n",
      "\n",
      "    accuracy                           0.94       534\n",
      "   macro avg       0.88      0.89      0.89       534\n",
      "weighted avg       0.94      0.94      0.94       534\n",
      "\n"
     ]
    }
   ],
   "source": [
    "grid_search_precision = GridSearchCV(pipe_forest, grid_forest, scoring=scorers_forest, refit='precision_score',\n",
    "                           cv=3, return_train_score=True, n_jobs=-1)\n",
    "\n",
    "model_output(grid_search_precision, X_t, X_val, y_t, y_val)"
   ]
  },
  {
   "cell_type": "code",
   "execution_count": 270,
   "metadata": {},
   "outputs": [
    {
     "data": {
      "text/plain": [
       "{'rf__max_depth': 25,\n",
       " 'rf__max_features': 0.5,\n",
       " 'rf__min_samples_split': 3,\n",
       " 'rf__n_estimators': 300}"
      ]
     },
     "execution_count": 270,
     "metadata": {},
     "output_type": "execute_result"
    }
   ],
   "source": [
    "grid_search_precision.best_params_"
   ]
  },
  {
   "cell_type": "code",
   "execution_count": 273,
   "metadata": {},
   "outputs": [
    {
     "data": {
      "text/plain": [
       "<sklearn.metrics._plot.confusion_matrix.ConfusionMatrixDisplay at 0x7fc60a94b9d0>"
      ]
     },
     "execution_count": 273,
     "metadata": {},
     "output_type": "execute_result"
    },
    {
     "data": {
      "image/png": "[encoded data removed]",
      "text/plain": [
       "<Figure size 1080x432 with 8 Axes>"
      ]
     },
     "metadata": {
      "needs_background": "light"
     },
     "output_type": "display_data"
    }
   ],
   "source": [
    "fig, axes = plt.subplots(nrows=2, ncols=2, figsize=(15, 6))\n",
    "fig.tight_layout(pad=4.0)\n",
    "\n",
    "axes[0,0].set_title(\"Baseline Random Forest\")\n",
    "axes[1,0].set_title(\"Hyper Tuned for f1\")\n",
    "axes[0,1].set_title(\"Hyper Tuned for Recall\")\n",
    "axes[1,1].set_title(\"Hyper Tuned for Precision\")\n",
    "\n",
    "plot_confusion_matrix(pipe_forest, X_val, y_val, ax=axes[0,0], cmap=\"Blues\")\n",
    "plot_confusion_matrix(grid_search_f1, X_val, y_val, ax=axes[1,0], cmap=\"Blues\")\n",
    "plot_confusion_matrix(grid_search_recall, X_val, y_val, ax=axes[0,1], cmap=\"Blues\")\n",
    "plot_confusion_matrix(grid_search_precision, X_val, y_val, ax=axes[1,1], cmap=\"Blues\")"
   ]
  },
  {
   "cell_type": "markdown",
   "metadata": {},
   "source": [
    "Hyper Tuned for Precision seems to give the best overall results. Ideally we want our False negative as low as possible like the one hypertuned for recall, but not at the cost of affecting FP that much. "
   ]
  }
 ],
 "metadata": {
  "kernelspec": {
   "display_name": "Python 3",
   "language": "python",
   "name": "python3"
  },
  "language_info": {
   "codemirror_mode": {
    "name": "ipython",
    "version": 3
   },
   "file_extension": ".py",
   "mimetype": "text/x-python",
   "name": "python",
   "nbconvert_exporter": "python",
   "pygments_lexer": "ipython3",
   "version": "3.8.3"
  }
 },
 "nbformat": 4,
 "nbformat_minor": 4
}
