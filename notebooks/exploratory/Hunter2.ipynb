{
 "cells": [
  {
   "cell_type": "code",
   "execution_count": 291,
   "metadata": {},
   "outputs": [
    {
     "name": "stdout",
     "output_type": "stream",
     "text": [
      "The autoreload extension is already loaded. To reload it, use:\n",
      "  %reload_ext autoreload\n"
     ]
    }
   ],
   "source": [
    "import pandas as pd\n",
    "import numpy as np\n",
    "\n",
    "import matplotlib.pyplot as plt\n",
    "import seaborn as sns\n",
    "\n",
    "from imblearn.pipeline import make_pipeline, Pipeline\n",
    "from sklearn.model_selection import train_test_split, GridSearchCV, cross_val_score\n",
    "from imblearn.over_sampling import SMOTE\n",
    "from sklearn.dummy import DummyClassifier\n",
    "from sklearn.metrics import confusion_matrix, f1_score, classification_report, plot_confusion_matrix, make_scorer, recall_score, accuracy_score, precision_score, f1_score\n",
    "from sklearn.preprocessing import OneHotEncoder, StandardScaler\n",
    "from sklearn.linear_model import LogisticRegression\n",
    "from sklearn.ensemble import RandomForestClassifier, AdaBoostClassifier\n",
    "from sklearn.neighbors import KNeighborsClassifier\n",
    "from sklearn.ensemble import StackingClassifier\n",
    "from sklearn.svm import SVC\n",
    "from sklearn.compose import ColumnTransformer, make_column_transformer\n",
    "from xgboost import XGBClassifier\n",
    "\n",
    "%load_ext autoreload\n",
    "%autoreload 2\n",
    "\n",
    "import os\n",
    "import sys\n",
    "module_path = os.path.abspath(os.path.join(os.pardir, os.pardir))\n",
    "if module_path not in sys.path:\n",
    "    sys.path.append(module_path)\n"
   ]
  },
  {
   "cell_type": "code",
   "execution_count": 307,
   "metadata": {},
   "outputs": [
    {
     "data": {
      "text/html": [
       "<div>\n",
       "<style scoped>\n",
       "    .dataframe tbody tr th:only-of-type {\n",
       "        vertical-align: middle;\n",
       "    }\n",
       "\n",
       "    .dataframe tbody tr th {\n",
       "        vertical-align: top;\n",
       "    }\n",
       "\n",
       "    .dataframe thead th {\n",
       "        text-align: right;\n",
       "    }\n",
       "</style>\n",
       "<table border=\"1\" class=\"dataframe\">\n",
       "  <thead>\n",
       "    <tr style=\"text-align: right;\">\n",
       "      <th></th>\n",
       "      <th>account length</th>\n",
       "      <th>international plan</th>\n",
       "      <th>voice mail plan</th>\n",
       "      <th>number vmail messages</th>\n",
       "      <th>total day calls</th>\n",
       "      <th>total day charge</th>\n",
       "      <th>total eve calls</th>\n",
       "      <th>total eve charge</th>\n",
       "      <th>total night calls</th>\n",
       "      <th>total night charge</th>\n",
       "      <th>total intl calls</th>\n",
       "      <th>total intl charge</th>\n",
       "      <th>customer service calls</th>\n",
       "    </tr>\n",
       "  </thead>\n",
       "  <tbody>\n",
       "    <tr>\n",
       "      <th>0</th>\n",
       "      <td>128</td>\n",
       "      <td>no</td>\n",
       "      <td>yes</td>\n",
       "      <td>25</td>\n",
       "      <td>110</td>\n",
       "      <td>45.07</td>\n",
       "      <td>99</td>\n",
       "      <td>16.78</td>\n",
       "      <td>91</td>\n",
       "      <td>11.01</td>\n",
       "      <td>3</td>\n",
       "      <td>2.70</td>\n",
       "      <td>1</td>\n",
       "    </tr>\n",
       "    <tr>\n",
       "      <th>1</th>\n",
       "      <td>107</td>\n",
       "      <td>no</td>\n",
       "      <td>yes</td>\n",
       "      <td>26</td>\n",
       "      <td>123</td>\n",
       "      <td>27.47</td>\n",
       "      <td>103</td>\n",
       "      <td>16.62</td>\n",
       "      <td>103</td>\n",
       "      <td>11.45</td>\n",
       "      <td>3</td>\n",
       "      <td>3.70</td>\n",
       "      <td>1</td>\n",
       "    </tr>\n",
       "    <tr>\n",
       "      <th>2</th>\n",
       "      <td>137</td>\n",
       "      <td>no</td>\n",
       "      <td>no</td>\n",
       "      <td>0</td>\n",
       "      <td>114</td>\n",
       "      <td>41.38</td>\n",
       "      <td>110</td>\n",
       "      <td>10.30</td>\n",
       "      <td>104</td>\n",
       "      <td>7.32</td>\n",
       "      <td>5</td>\n",
       "      <td>3.29</td>\n",
       "      <td>0</td>\n",
       "    </tr>\n",
       "    <tr>\n",
       "      <th>3</th>\n",
       "      <td>84</td>\n",
       "      <td>yes</td>\n",
       "      <td>no</td>\n",
       "      <td>0</td>\n",
       "      <td>71</td>\n",
       "      <td>50.90</td>\n",
       "      <td>88</td>\n",
       "      <td>5.26</td>\n",
       "      <td>89</td>\n",
       "      <td>8.86</td>\n",
       "      <td>7</td>\n",
       "      <td>1.78</td>\n",
       "      <td>2</td>\n",
       "    </tr>\n",
       "    <tr>\n",
       "      <th>4</th>\n",
       "      <td>75</td>\n",
       "      <td>yes</td>\n",
       "      <td>no</td>\n",
       "      <td>0</td>\n",
       "      <td>113</td>\n",
       "      <td>28.34</td>\n",
       "      <td>122</td>\n",
       "      <td>12.61</td>\n",
       "      <td>121</td>\n",
       "      <td>8.41</td>\n",
       "      <td>3</td>\n",
       "      <td>2.73</td>\n",
       "      <td>3</td>\n",
       "    </tr>\n",
       "  </tbody>\n",
       "</table>\n",
       "</div>"
      ],
      "text/plain": [
       "   account length international plan voice mail plan  number vmail messages  \\\n",
       "0             128                 no             yes                     25   \n",
       "1             107                 no             yes                     26   \n",
       "2             137                 no              no                      0   \n",
       "3              84                yes              no                      0   \n",
       "4              75                yes              no                      0   \n",
       "\n",
       "   total day calls  total day charge  total eve calls  total eve charge  \\\n",
       "0              110             45.07               99             16.78   \n",
       "1              123             27.47              103             16.62   \n",
       "2              114             41.38              110             10.30   \n",
       "3               71             50.90               88              5.26   \n",
       "4              113             28.34              122             12.61   \n",
       "\n",
       "   total night calls  total night charge  total intl calls  total intl charge  \\\n",
       "0                 91               11.01                 3               2.70   \n",
       "1                103               11.45                 3               3.70   \n",
       "2                104                7.32                 5               3.29   \n",
       "3                 89                8.86                 7               1.78   \n",
       "4                121                8.41                 3               2.73   \n",
       "\n",
       "   customer service calls  \n",
       "0                       1  \n",
       "1                       1  \n",
       "2                       0  \n",
       "3                       2  \n",
       "4                       3  "
      ]
     },
     "execution_count": 307,
     "metadata": {},
     "output_type": "execute_result"
    }
   ],
   "source": [
    "X.head()"
   ]
  },
  {
   "cell_type": "code",
   "execution_count": 366,
   "metadata": {},
   "outputs": [],
   "source": [
    "y = pd.read_csv('../../src/data/y_dataframe.csv', index_col= 0, squeeze= True)\n",
    "X = pd.read_csv('../../src/data/X_dataframe.csv', index_col= 0)"
   ]
  },
  {
   "cell_type": "code",
   "execution_count": 367,
   "metadata": {},
   "outputs": [],
   "source": [
    "# From previous notebook it was discovered the total minutes was directly correlated to the charge so we dropped all the minute columns. \n",
    "# Also state didnt seem to play a huge impportance so we took it out to reduce calculation time. "
   ]
  },
  {
   "cell_type": "code",
   "execution_count": 368,
   "metadata": {},
   "outputs": [],
   "source": [
    "X.drop(columns=['total day minutes', 'total eve minutes', 'total night minutes', 'total intl minutes', 'state'], axis=1, inplace= True)"
   ]
  },
  {
   "cell_type": "markdown",
   "metadata": {},
   "source": [
    "<img src='../report/figures/RandomForestClassifier(max_features=0.5, random_state=42)Feature_importance.png' width=600/>"
   ]
  },
  {
   "cell_type": "code",
   "execution_count": 369,
   "metadata": {},
   "outputs": [],
   "source": [
    "X_train, X_test, y_train, y_test = train_test_split(X,y, random_state=42, test_size = .2)\n",
    "X_t, X_val, y_t, y_val = train_test_split(X_train,y_train, random_state=42, test_size = .2)"
   ]
  },
  {
   "cell_type": "code",
   "execution_count": 370,
   "metadata": {},
   "outputs": [],
   "source": [
    "numerical_features = X_train.select_dtypes(exclude='object').columns\n",
    "categorical_features = X_train.select_dtypes(include='object').columns"
   ]
  },
  {
   "cell_type": "code",
   "execution_count": 371,
   "metadata": {},
   "outputs": [],
   "source": [
    "def model_output(model, X_t, X_val, y_t, y_val):\n",
    "    '''Can be used on final test and train validation''\n",
    "    input:   model, X_t, X_val, y_t, y_val\n",
    "    or \n",
    "    input:   model, X_train, X_test, y_train, y_test\n",
    "    '''\n",
    "    \n",
    "    model.fit(X_t, y_t)\n",
    "    y_hat = model.predict(X_val)\n",
    "    \n",
    "    print(f'''The Cross Val accuracy is: {cross_val_score(estimator = model, X = X_t,y = y_t, cv = 3, scoring = 'accuracy').mean()}''')\n",
    "    print(f'The test Accuracy is: {accuracy_score(y_val, y_hat)}')\n",
    "    print(confusion_matrix(y_val, y_hat))\n",
    "    print(classification_report(y_val, y_hat))\n",
    "\n",
    "    return"
   ]
  },
  {
   "cell_type": "markdown",
   "metadata": {},
   "source": [
    "# Pipeline"
   ]
  },
  {
   "cell_type": "code",
   "execution_count": 372,
   "metadata": {},
   "outputs": [],
   "source": [
    "preprocess = make_column_transformer(\n",
    "    (OneHotEncoder(sparse = False, drop ='first'), categorical_features), remainder = 'passthrough')"
   ]
  },
  {
   "cell_type": "code",
   "execution_count": 383,
   "metadata": {},
   "outputs": [],
   "source": [
    "pipe_forest = Pipeline([\n",
    "    ('pp', preprocess),\n",
    "    ('ss', StandardScaler()),\n",
    "    ('sm', SMOTE(random_state= 42)),\n",
    "    ('rf', RandomForestClassifier(random_state = 42))])\n"
   ]
  },
  {
   "cell_type": "code",
   "execution_count": 384,
   "metadata": {},
   "outputs": [
    {
     "data": {
      "text/plain": [
       "{'rf__max_depth': 25,\n",
       " 'rf__max_features': 0.5,\n",
       " 'rf__min_samples_split': 3,\n",
       " 'rf__n_estimators': 100}"
      ]
     },
     "execution_count": 384,
     "metadata": {},
     "output_type": "execute_result"
    }
   ],
   "source": [
    "{'rf__max_depth': 25,\n",
    " 'rf__max_features': 0.5,\n",
    " 'rf__min_samples_split': 3,\n",
    " 'rf__n_estimators': 100}"
   ]
  },
  {
   "cell_type": "markdown",
   "metadata": {},
   "source": [
    "# Random forest model"
   ]
  },
  {
   "cell_type": "markdown",
   "metadata": {},
   "source": [
    "Baseline model"
   ]
  },
  {
   "cell_type": "code",
   "execution_count": 385,
   "metadata": {},
   "outputs": [
    {
     "name": "stdout",
     "output_type": "stream",
     "text": [
      "The Cross Val accuracy is: 0.9343612453848674\n",
      "The test Accuracy is: 0.9370314842578711\n",
      "[[546  20]\n",
      " [ 22  79]]\n",
      "              precision    recall  f1-score   support\n",
      "\n",
      "       False       0.96      0.96      0.96       566\n",
      "        True       0.80      0.78      0.79       101\n",
      "\n",
      "    accuracy                           0.94       667\n",
      "   macro avg       0.88      0.87      0.88       667\n",
      "weighted avg       0.94      0.94      0.94       667\n",
      "\n"
     ]
    }
   ],
   "source": [
    "model_output(pipe_forest, X_train, X_test, y_train, y_test)"
   ]
  },
  {
   "cell_type": "markdown",
   "metadata": {},
   "source": [
    "# Random forest with grid models"
   ]
  },
  {
   "cell_type": "code",
   "execution_count": 346,
   "metadata": {},
   "outputs": [],
   "source": [
    "grid_forest = {\n",
    "    'rf__min_samples_split': [2, 3, 5], \n",
    "    'rf__n_estimators' : [100, 300],\n",
    "    'rf__max_depth': [5, 15, 25, None],\n",
    "    'rf__max_features': ['sqrt', 'log2', 10, .5]\n",
    "}"
   ]
  },
  {
   "cell_type": "code",
   "execution_count": 347,
   "metadata": {},
   "outputs": [],
   "source": [
    "scorers_forest = {\n",
    "    'recall_score': make_scorer(recall_score),\n",
    "    'precision_score': make_scorer(precision_score),\n",
    "    'f1': make_scorer(f1_score)\n",
    "    }"
   ]
  },
  {
   "cell_type": "markdown",
   "metadata": {},
   "source": [
    "# Maximizing f1"
   ]
  },
  {
   "cell_type": "code",
   "execution_count": 351,
   "metadata": {},
   "outputs": [
    {
     "name": "stdout",
     "output_type": "stream",
     "text": [
      "The Cross Val accuracy is: 0.9301195829453985\n",
      "The test Accuracy is: 0.9363295880149812\n",
      "[[437  19]\n",
      " [ 15  63]]\n",
      "              precision    recall  f1-score   support\n",
      "\n",
      "       False       0.97      0.96      0.96       456\n",
      "        True       0.77      0.81      0.79        78\n",
      "\n",
      "    accuracy                           0.94       534\n",
      "   macro avg       0.87      0.88      0.88       534\n",
      "weighted avg       0.94      0.94      0.94       534\n",
      "\n"
     ]
    }
   ],
   "source": [
    "grid_search_f1 = GridSearchCV(pipe_forest, grid_forest, scoring=scorers_forest, refit='f1',\n",
    "                           cv=3, return_train_score=True, n_jobs=-1)\n",
    "\n",
    "model_output(grid_search_f1, X_t, X_val, y_t, y_val)"
   ]
  },
  {
   "cell_type": "code",
   "execution_count": 352,
   "metadata": {},
   "outputs": [
    {
     "data": {
      "text/plain": [
       "{'rf__max_depth': 25,\n",
       " 'rf__max_features': 0.5,\n",
       " 'rf__min_samples_split': 3,\n",
       " 'rf__n_estimators': 100}"
      ]
     },
     "execution_count": 352,
     "metadata": {},
     "output_type": "execute_result"
    }
   ],
   "source": [
    "grid_search_f1.best_params_"
   ]
  },
  {
   "cell_type": "code",
   "execution_count": 353,
   "metadata": {},
   "outputs": [
    {
     "name": "stdout",
     "output_type": "stream",
     "text": [
      "The Cross Val accuracy is: 0.9015167422726703\n",
      "The test Accuracy is: 0.9157303370786517\n",
      "[[422  34]\n",
      " [ 11  67]]\n",
      "              precision    recall  f1-score   support\n",
      "\n",
      "       False       0.97      0.93      0.95       456\n",
      "        True       0.66      0.86      0.75        78\n",
      "\n",
      "    accuracy                           0.92       534\n",
      "   macro avg       0.82      0.89      0.85       534\n",
      "weighted avg       0.93      0.92      0.92       534\n",
      "\n"
     ]
    }
   ],
   "source": [
    "grid_search_recall = GridSearchCV(pipe_forest, grid_forest, scoring=scorers_forest, refit='recall_score',\n",
    "                           cv=3, return_train_score=True, n_jobs=-1)\n",
    "\n",
    "model_output(grid_search_recall, X_t, X_val, y_t, y_val)"
   ]
  },
  {
   "cell_type": "code",
   "execution_count": 355,
   "metadata": {},
   "outputs": [
    {
     "data": {
      "text/plain": [
       "{'rf__max_depth': 5,\n",
       " 'rf__max_features': 0.5,\n",
       " 'rf__min_samples_split': 3,\n",
       " 'rf__n_estimators': 300}"
      ]
     },
     "execution_count": 355,
     "metadata": {},
     "output_type": "execute_result"
    }
   ],
   "source": [
    "grid_search_recall.best_params_"
   ]
  },
  {
   "cell_type": "code",
   "execution_count": 356,
   "metadata": {},
   "outputs": [
    {
     "name": "stdout",
     "output_type": "stream",
     "text": [
      "The Cross Val accuracy is: 0.9301189226309569\n",
      "The test Accuracy is: 0.9363295880149812\n",
      "[[437  19]\n",
      " [ 15  63]]\n",
      "              precision    recall  f1-score   support\n",
      "\n",
      "       False       0.97      0.96      0.96       456\n",
      "        True       0.77      0.81      0.79        78\n",
      "\n",
      "    accuracy                           0.94       534\n",
      "   macro avg       0.87      0.88      0.88       534\n",
      "weighted avg       0.94      0.94      0.94       534\n",
      "\n"
     ]
    }
   ],
   "source": [
    "grid_search_precision = GridSearchCV(pipe_forest, grid_forest, scoring=scorers_forest, refit='precision_score',\n",
    "                           cv=3, return_train_score=True, n_jobs=-1)\n",
    "\n",
    "model_output(grid_search_precision, X_t, X_val, y_t, y_val)"
   ]
  },
  {
   "cell_type": "code",
   "execution_count": 357,
   "metadata": {},
   "outputs": [
    {
     "data": {
      "text/plain": [
       "{'rf__max_depth': 25,\n",
       " 'rf__max_features': 0.5,\n",
       " 'rf__min_samples_split': 3,\n",
       " 'rf__n_estimators': 100}"
      ]
     },
     "execution_count": 357,
     "metadata": {},
     "output_type": "execute_result"
    }
   ],
   "source": [
    "grid_search_precision.best_params_"
   ]
  },
  {
   "cell_type": "code",
   "execution_count": 358,
   "metadata": {},
   "outputs": [
    {
     "data": {
      "text/plain": [
       "<sklearn.metrics._plot.confusion_matrix.ConfusionMatrixDisplay at 0x7fc6098479d0>"
      ]
     },
     "execution_count": 358,
     "metadata": {},
     "output_type": "execute_result"
    },
    {
     "data": {
      "image/png": "[encoded data removed]",
      "text/plain": [
       "<Figure size 1080x432 with 8 Axes>"
      ]
     },
     "metadata": {
      "needs_background": "light"
     },
     "output_type": "display_data"
    }
   ],
   "source": [
    "fig, axes = plt.subplots(nrows=2, ncols=2, figsize=(15, 6))\n",
    "fig.tight_layout(pad=4.0)\n",
    "\n",
    "axes[0,0].set_title(\"Baseline Random Forest\")\n",
    "axes[1,0].set_title(\"Hyper Tuned for f1\")\n",
    "axes[0,1].set_title(\"Hyper Tuned for Recall\")\n",
    "axes[1,1].set_title(\"Hyper Tuned for Precision\")\n",
    "\n",
    "plot_confusion_matrix(pipe_forest, X_val, y_val, ax=axes[0,0], cmap=\"Blues\")\n",
    "plot_confusion_matrix(grid_search_f1, X_val, y_val, ax=axes[1,0], cmap=\"Blues\")\n",
    "plot_confusion_matrix(grid_search_recall, X_val, y_val, ax=axes[0,1], cmap=\"Blues\")\n",
    "plot_confusion_matrix(grid_search_precision, X_val, y_val, ax=axes[1,1], cmap=\"Blues\")"
   ]
  },
  {
   "cell_type": "markdown",
   "metadata": {},
   "source": [
    "Hyper Tuned for Precision seems to give the best overall results. Ideally we want our False negative as low as possible like the one hypertuned for recall."
   ]
  },
  {
   "cell_type": "markdown",
   "metadata": {},
   "source": [
    "# XGBoost classifier"
   ]
  },
  {
   "cell_type": "code",
   "execution_count": 293,
   "metadata": {},
   "outputs": [],
   "source": [
    "pipe_XG = Pipeline([\n",
    "    ('pp', preprocess),\n",
    "    ('ss', StandardScaler()),\n",
    "    ('sm', SMOTE(random_state= 42)),\n",
    "    ('xg', XGBClassifier(random_state = 42))])\n"
   ]
  },
  {
   "cell_type": "code",
   "execution_count": 296,
   "metadata": {},
   "outputs": [
    {
     "name": "stdout",
     "output_type": "stream",
     "text": [
      "The Cross Val accuracy is: 0.9413746426048085\n",
      "The test Accuracy is: 0.9456928838951311\n",
      "[[443  13]\n",
      " [ 16  62]]\n",
      "              precision    recall  f1-score   support\n",
      "\n",
      "       False       0.97      0.97      0.97       456\n",
      "        True       0.83      0.79      0.81        78\n",
      "\n",
      "    accuracy                           0.95       534\n",
      "   macro avg       0.90      0.88      0.89       534\n",
      "weighted avg       0.94      0.95      0.95       534\n",
      "\n"
     ]
    }
   ],
   "source": [
    "model_output(pipe_XG, X_t, X_val, y_t, y_val)"
   ]
  },
  {
   "cell_type": "code",
   "execution_count": null,
   "metadata": {},
   "outputs": [],
   "source": [
    "grid_xg"
   ]
  },
  {
   "cell_type": "code",
   "execution_count": null,
   "metadata": {},
   "outputs": [],
   "source": [
    "grid_search_xg = GridSearchCV(pipe_XG, grid_forest, scoring=scorers_forest, refit='precision_score',\n",
    "                           cv=3, return_train_score=True, n_jobs=-1)"
   ]
  }
 ],
 "metadata": {
  "kernelspec": {
   "display_name": "Python 3",
   "language": "python",
   "name": "python3"
  },
  "language_info": {
   "codemirror_mode": {
    "name": "ipython",
    "version": 3
   },
   "file_extension": ".py",
   "mimetype": "text/x-python",
   "name": "python",
   "nbconvert_exporter": "python",
   "pygments_lexer": "ipython3",
   "version": "3.8.3"
  }
 },
 "nbformat": 4,
 "nbformat_minor": 4
}
